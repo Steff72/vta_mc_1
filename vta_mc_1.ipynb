{
 "cells": [
  {
   "cell_type": "markdown",
   "metadata": {},
   "source": [
    "# Mini Challenge: Gradient Descent\n",
    "\n",
    "- Authoren: Sandro **Balz**, Stefan **Binkert**, Christoph **Elmiger**  \n",
    "- Studiengang: FHNW Data Science BSc  \n",
    "- Modul: Vertiefende Themen der Analysis  \n",
    "- Fachexperte: Stefan Hackstein\n",
    "\n",
    "*Zuletzt vollständig ausgeführt am 22.3.2025 in 2:03 Minuten*\n",
    "\n",
    "## Einleitung\n",
    "\n",
    "Dieses Jupyter Notebook wurde im Rahmen der Mini Challenge \"Gradient Descent\" aus der Veranstaltung Vertiefung Analysis erstellt. Ziel dieser Aufgabe ist es, ein grundlegendes Verständnis für numerische Näherungsverfahren in höheren Dimensionen zu entwickeln – insbesondere für den Gradient Descent und dessen Anwendung in neuronalen Netzwerken.\n",
    "\n",
    "Anhand des MNIST-Datensatzes wird zunächst eine Datenexploration durchgeführt, anschliessend wird ein neuronales Netzwerk vollständig mit NumPy implementiert. Dabei werden alle wesentlichen Komponenten wie Forward- und Backward-Pass, Parameter-Updates sowie Trainings- und Evaluationsfunktionen selbst entwickelt. Abschliessend erfolgt eine Analyse des Trainingsverhaltens unter Variation der Lernrate und Netzwerkarchitektur.\n",
    "\n",
    "Dieses Notebook dokumentiert nicht nur den Lösungsweg, sondern auch die wichtigsten Lernfortschritte, Herausforderungen und Erkenntnisse im Sinne eines Lerntagebuchs. Zur Unterstützung kamen auch KI-gestützte Tools wie ChatGPT zum Einsatz, deren Verwendung transparent offengelegt und reflektiert wird.\n",
    "\n",
    "## Inhalt\n",
    "\n",
    "### Aufgabe 1 – Datenimport und Exploration\n",
    "\n",
    "- Laden des MNIST-Datensatzes mit torchvision\n",
    "- Analyse von Struktur, Format und Labelverteilung\n",
    "- Visuelle Exploration der Ziffern (Beispiele und Verteilungsgrafiken)\n",
    "\n",
    "### Aufgabe 2 – Implementierung eines linearen Layers in NumPy\n",
    "\n",
    "- Manuelle Implementierung eines vollvernetzten Layers (Forward, Backward, Update)\n",
    "- He-Initialisierung und Gradient Clipping\n",
    "- Verifikation durch explizite Unittests und händische Kontrollrechnung\n",
    "\n",
    "### Aufgabe 3 – Einfaches neuronales Netz (Binary Classification)\n",
    "\n",
    "- Konstruktion eines Netzwerks mit einem Hidden Layer\n",
    "- Klassifikation einer Zielziffer vs. Rest\n",
    "- Implementierung und mathematische Herleitung von Kosten- und Evaluationsfunktionen\n",
    "- Diskussion der Funktionswahl und möglicher Alternativen\n",
    "\n",
    "### Aufgabe 4 – Hyperparameter-Tuning und Trainingsevaluation\n",
    "\n",
    "- Systematische Variation von Lernrate und Hidden-Layer-Größe\n",
    "- Training über mehrere Epochen und Vergleich der Modelle\n",
    "- Darstellung und Interpretation von Trainings- und Testverläufen\n",
    "- Diskussion möglicher Trainingsprobleme und ihrer Ursachen\n",
    "\n",
    "### Aufgabe 5 – Erweiterung zum Mehrklassen-Klassifikator\n",
    "\n",
    "- Erweiterung auf ein Netzwerk mit 3 Hidden Layern und 10 Outputs\n",
    "- Training mit Mini-Batches\n",
    "- Wahl und Vergleich von Evaluations- und Kostenfunktionen für Multiklassen-Setups\n",
    "- Hyperparameteranalyse und Begründung der finalen Architektur\n",
    "\n",
    "### Anhang\n",
    "- Reflexion zur KI-Nutzung (inkl. Beispielchat)"
   ]
  },
  {
   "cell_type": "markdown",
   "metadata": {},
   "source": [
    "## Aufgabe 1 – Laden und Erkunden des MNIST-Datensatzes\n",
    "\n",
    "In dieser Aufgabe nutzen wir das `torchvision`-Paket, um den bekannten MNIST-Datensatz zu laden, und analysieren dessen Struktur. Ziel ist es, ein erstes Verständnis für die Datenbasis zu entwickeln, mit der wir später ein neuronales Netzwerk trainieren werden.\n",
    "\n",
    "### Import von Libraries\n",
    "\n",
    "Zunächst importieren wir alle benötigten Bibliotheken. Für diese Aufgabe dürfen wir neben `numpy` und `matplotlib` auch `torchvision` verwenden, um die MNIST-Daten bequem herunterzuladen und zu transformieren."
   ]
  },
  {
   "cell_type": "code",
   "execution_count": 34,
   "metadata": {
    "ExecuteTime": {
     "end_time": "2025-03-22T19:55:06.768160Z",
     "start_time": "2025-03-22T19:55:06.764054Z"
    }
   },
   "outputs": [],
   "source": [
    "import numpy as np\n",
    "import matplotlib.pyplot as plt\n",
    "\n",
    "# Nur für Aufgabe 1\n",
    "from torchvision import datasets, transforms\n",
    "\n",
    "# Um zu überprüfen, wie lange das Notebook läuft\n",
    "from time import time\n",
    "t_anfang = time()"
   ]
  },
  {
   "cell_type": "markdown",
   "metadata": {},
   "source": [
    "\n",
    "### Verwendung von torchvision zum Laden der Daten\n",
    "\n",
    "Hier definieren wir die nötige Transformation und laden den MNIST-Datensatz. Dabei werden die Bilddaten direkt in Tensoren umgewandelt, um sie später leichter verarbeiten zu können."
   ]
  },
  {
   "cell_type": "code",
   "execution_count": 35,
   "metadata": {
    "ExecuteTime": {
     "end_time": "2025-03-22T19:55:06.805936Z",
     "start_time": "2025-03-22T19:55:06.781476Z"
    }
   },
   "outputs": [],
   "source": [
    "# Transformation: Wandelt PIL-Bild in Tensor im Bereich [0, 1] um\n",
    "transform = transforms.ToTensor()\n",
    "\n",
    "# Download und Laden des MNIST-Datensatzes (Trainings- und Testdaten)\n",
    "train_dataset = datasets.MNIST(root='./data', train=True, download=True, transform=transform)\n",
    "test_dataset  = datasets.MNIST(root='./data', train=False, download=True, transform=transform)"
   ]
  },
  {
   "cell_type": "markdown",
   "metadata": {},
   "source": [
    "### Überblick über Struktur, Verteilung und Eigenschaften des Datensatzes\n",
    "\n",
    "Nach dem Laden werfen wir einen genaueren Blick auf die Struktur der Daten. Wir untersuchen u.a. die Anzahl der Datensätze, die Form der Bilddaten, die Labelverteilung sowie den Wertebereich der Pixel."
   ]
  },
  {
   "cell_type": "code",
   "execution_count": 36,
   "metadata": {
    "ExecuteTime": {
     "end_time": "2025-03-22T19:55:13.643608Z",
     "start_time": "2025-03-22T19:55:06.822793Z"
    }
   },
   "outputs": [
    {
     "name": "stdout",
     "output_type": "stream",
     "text": [
      "Trainingsdaten:  60000\n",
      "Testdaten:  10000\n",
      "Unsere Testdaten haben den Typ <class 'torchvision.datasets.mnist.MNIST'>\n",
      "Die Bilder-Tensoren haben Typ <class 'torch.Tensor'>, die Labels Typ <class 'int'>\n",
      "Bilder haben Shape (1, 28, 28) (1 Kanal, 28px hoch, 28px breit), pro Bild haben wir also 784 Pixel\n",
      "Wir haben 10 einzigartige Labels (Zahlen 0 - 9).\n",
      "Der Bereich der Pixelwerte liegt zwischen 0 und 255\n",
      "Der Durchschnitt der Pixelwerte liegt bei 33.32\n"
     ]
    }
   ],
   "source": [
    "# Überblick über Datensatz-Grösse und Struktur\n",
    "print(\"Trainingsdaten: \", len(train_dataset))\n",
    "print(\"Testdaten: \", len(test_dataset))\n",
    "\n",
    "# Datentyp der Bilder und Labels\n",
    "print(f\"Unsere Testdaten haben den Typ {type(train_dataset)}\")\n",
    "print(f\"Die Bilder-Tensoren haben Typ {type(test_dataset[0][0])}, die Labels Typ {type(test_dataset[0][1])}\")\n",
    "\n",
    "# Dimension eines einzelnen Bildes\n",
    "print(f\"Bilder haben Shape {tuple(train_dataset[0][0].size())} (1 Kanal, 28px hoch, 28px breit), pro Bild haben wir also {1*28*28} Pixel\")\n",
    "\n",
    "# Anzahl der unterschiedlichen Ziffernlabels\n",
    "print(f\"Wir haben {len(set(train_dataset.targets.tolist()))} einzigartige Labels (Zahlen 0 - 9).\")\n",
    "\n",
    "# Bereich der Pixelwerte (zwischen 0 und 255)\n",
    "print(f\"Der Bereich der Pixelwerte liegt zwischen {np.min(train_dataset.data.tolist())} und {np.max(train_dataset.data.tolist())}\")\n",
    "print(f\"Der Durchschnitt der Pixelwerte liegt bei {np.mean(train_dataset.data.tolist()):.2f}\")"
   ]
  },
  {
   "cell_type": "markdown",
   "metadata": {},
   "source": [
    "### Visualisierung erster Beispiele\n",
    "\n",
    "Um ein besseres Verständnis für den MNIST-Datensatz zu entwickeln, betrachten wir zunächst Beispielbilder aus dem Testdatensatz. Für jede Ziffer von 0 bis 9 werden jeweils 15 zufällige Beispiele angezeigt. So gewinnen wir einen visuellen Eindruck von der Vielfalt und Unterschiedlichkeit der handschriftlichen Zifferndarstellung.\n",
    "\n",
    "Anschliessend analysieren wir die Häufigkeitsverteilung der Labels in Trainings- und Testdaten. Diese Information ist wichtig, um potenzielle Ungleichgewichte zu erkennen, die das Training beeinflussen könnten."
   ]
  },
  {
   "cell_type": "code",
   "execution_count": 37,
   "metadata": {
    "ExecuteTime": {
     "end_time": "2025-03-22T19:55:14.764938Z",
     "start_time": "2025-03-22T19:55:13.660222Z"
    }
   },
   "outputs": [
    {
     "data": {
      "image/png": "[encoded data removed]",
      "text/plain": [
       "<Figure size 800x200 with 15 Axes>"
      ]
     },
     "metadata": {},
     "output_type": "display_data"
    },
    {
     "data": {
      "image/png": "[encoded data removed]",
      "text/plain": [
       "<Figure size 800x200 with 15 Axes>"
      ]
     },
     "metadata": {},
     "output_type": "display_data"
    },
    {
     "data": {
      "image/png": "[encoded data removed]",
      "text/plain": [
       "<Figure size 800x200 with 15 Axes>"
      ]
     },
     "metadata": {},
     "output_type": "display_data"
    },
    {
     "data": {
      "image/png": "[encoded data removed]",
      "text/plain": [
       "<Figure size 800x200 with 15 Axes>"
      ]
     },
     "metadata": {},
     "output_type": "display_data"
    },
    {
     "data": {
      "image/png": "[encoded data removed]",
      "text/plain": [
       "<Figure size 800x200 with 15 Axes>"
      ]
     },
     "metadata": {},
     "output_type": "display_data"
    },
    {
     "data": {
      "image/png": "[encoded data removed]",
      "text/plain": [
       "<Figure size 800x200 with 15 Axes>"
      ]
     },
     "metadata": {},
     "output_type": "display_data"
    },
    {
     "data": {
      "image/png": "[encoded data removed]",
      "text/plain": [
       "<Figure size 800x200 with 15 Axes>"
      ]
     },
     "metadata": {},
     "output_type": "display_data"
    },
    {
     "data": {
      "image/png": "[encoded data removed]",
      "text/plain": [
       "<Figure size 800x200 with 15 Axes>"
      ]
     },
     "metadata": {},
     "output_type": "display_data"
    },
    {
     "data": {
      "image/png": "[encoded data removed]",
      "text/plain": [
       "<Figure size 800x200 with 15 Axes>"
      ]
     },
     "metadata": {},
     "output_type": "display_data"
    },
    {
     "data": {
      "image/png": "[encoded data removed]",
      "text/plain": [
       "<Figure size 800x200 with 15 Axes>"
      ]
     },
     "metadata": {},
     "output_type": "display_data"
    }
   ],
   "source": [
    "# Zeige für jede Ziffer (0–9) eine Reihe mit Beispielbildern\n",
    "show_how_many = 15 # Anzahl Beispiele pro Ziffer\n",
    "\n",
    "\n",
    "for i in range(10):\n",
    "    \n",
    "    number_to_show = i\n",
    "    nums = [] # Liste der Bilder\n",
    "    j = 0\n",
    "    # Sammle die ersten 15 Bilder der Ziffer i\n",
    "    while len(nums) < show_how_many:\n",
    "        img, label = test_dataset[j]\n",
    "        if label == number_to_show:\n",
    "            nums.append(img)\n",
    "        j += 1\n",
    "        \n",
    "    # Erzeuge eine Zeile von Bildern\n",
    "    fig, axes = plt.subplots(1, show_how_many, figsize=(8,2))\n",
    "    plt.subplots_adjust(hspace=-3)  # Adjust this value to control spacing\n",
    "    if i == 0:\n",
    "        plt.suptitle(f\"{show_how_many} Beispiele für jede Ziffer.\", y=.8)\n",
    "    for j, ax in enumerate(axes):\n",
    "        img = nums[j]\n",
    "        ax.imshow(img.squeeze(), cmap='gray')\n",
    "        ax.set_title(f\"{label}\", y=.9)\n",
    "        ax.axis('off')\n",
    "plt.show()"
   ]
  },
  {
   "cell_type": "code",
   "execution_count": 38,
   "metadata": {
    "ExecuteTime": {
     "end_time": "2025-03-22T19:55:17.444845Z",
     "start_time": "2025-03-22T19:55:14.796247Z"
    }
   },
   "outputs": [
    {
     "data": {
      "image/png": "[encoded data removed]",
      "text/plain": [
       "<Figure size 800x500 with 1 Axes>"
      ]
     },
     "metadata": {},
     "output_type": "display_data"
    }
   ],
   "source": [
    "# Labels extrahieren aus Trainings- und Testdaten\n",
    "train_labels = [train_dataset[i][1] for i in range(len(train_dataset))]\n",
    "test_labels = [test_dataset[i][1] for i in range(len(test_dataset))]\n",
    "\n",
    "# Zähle Vorkommen pro Klasse (0–9)\n",
    "train_counts = np.bincount(train_labels, minlength=10)\n",
    "test_counts = np.bincount(test_labels, minlength=10)\n",
    "\n",
    "# Setup für Balkendiagramm\n",
    "bar_width = 0.4\n",
    "indices = np.arange(10)\n",
    "\n",
    "# Farben für bessere Lesbarkeit\n",
    "train_color = \"#6a9c89\"  # Sanftes Grün\n",
    "test_color = \"#e69c5c\"   # Warmes Orange\n",
    "\n",
    "# Plot erstellen\n",
    "plt.figure(figsize=(8, 5))\n",
    "plt.bar(indices - bar_width/2, train_counts, width=bar_width, color=train_color, edgecolor='black', label=\"Trainingsdaten\")\n",
    "plt.bar(indices + bar_width/2, test_counts, width=bar_width, color=test_color, edgecolor='black', label=\"Testdaten\")\n",
    "\n",
    "# Achsen und Titel\n",
    "plt.xticks(indices, range(10))\n",
    "plt.xlabel(\"Ziffern (Labels)\")\n",
    "plt.ylabel(\"Anzahl der Bilder\")\n",
    "plt.title(\"Verteilung der Labels im MNIST-Datensatz\")\n",
    "plt.legend()\n",
    "plt.grid(axis=\"y\", linestyle=\"--\", alpha=0.7)\n",
    "plt.show()"
   ]
  },
  {
   "cell_type": "markdown",
   "metadata": {},
   "source": [
    "## Aufgabe 2 – Implementierung eines linearen Layers in NumPy\n",
    "\n",
    "In dieser Aufgabe erstellen wir einen einfachen linearen Layer vollständig mit `NumPy`. Ziel ist es, ein tiefes Verständnis für die Funktionsweise neuronaler Netze zu entwickeln – ohne High-Level-Bibliotheken wie PyTorch oder TensorFlow. \n",
    "\n",
    "Der Layer soll in der Lage sein, Eingabedaten zu verarbeiten (Forward-Pass), Gradienten für das Training zu berechnen (Backward-Pass) und seine Parameter über Gradient Descent zu aktualisieren (Update-Schritt). Damit bildet er die zentrale Recheneinheit für das spätere Netzwerk in Aufgabe 3–5. \n",
    "\n",
    "<img src=\"nn.png\" alt=\"Neural Network image\" width=\"720\" height=\"520\"/>\n",
    "\n",
    "###  Klasse `LinearLayer`: Forward, Backward und Update\n",
    "\n",
    "Die Klasse `LinearLayer` bildet einen vollständig verbundenen, linearen Layer. Sie besitzt drei zentrale Methoden:\n",
    "\n",
    "- `forward(x)`: Berechnet die Ausgabe $z = XW^T + b $\n",
    "- `backward(d_out)`: Berechnet die Gradienten der Gewichte und Biases\n",
    "- `update(learning_rate)`: Führt einen Schritt des Gradientenverfahrens durch\n",
    "\n",
    "Zusätzlich verwenden wir **He-Initialisierung**, um die Gewichte geeignet zu starten – eine gängige Praxis bei ReLU-Aktivierungen. Zur Stabilisierung (z.B. um Overflow bei zu hohen Lernraten zu vermeiden) werden die Gradienten vor dem Update auf eine maximale L2-Norm begrenzt."
   ]
  },
  {
   "cell_type": "code",
   "execution_count": 39,
   "metadata": {
    "ExecuteTime": {
     "end_time": "2025-03-22T19:55:17.457113Z",
     "start_time": "2025-03-22T19:55:17.452488Z"
    }
   },
   "outputs": [],
   "source": [
    "class LinearLayer:\n",
    "    \"\"\"\n",
    "    Eine vollständig verbundene (dense) lineare Schicht:\n",
    "    Berechnet: output = x @ W^T + b^T\n",
    "\n",
    "    Attributes:\n",
    "        W (ndarray): Gewichtsmatrix (shape: [output_dim, input_dim])\n",
    "        b (ndarray): Bias-Vektor (shape: [output_dim, 1])\n",
    "        x (ndarray): Eingabevektor für den Backward-Pass\n",
    "        dW (ndarray): Gradienten der Gewichte\n",
    "        db (ndarray): Gradienten des Bias\n",
    "    \"\"\"\n",
    "\n",
    "    def __init__(self, input_dim, output_dim):\n",
    "        \"\"\"\n",
    "        Initialisiert die Parameter der Schicht (Gewichte und Bias).\n",
    "        Gewichte werden per He-Initialisierung gesetzt.\n",
    "        \"\"\"\n",
    "        self.W = np.random.randn(output_dim, input_dim) * np.sqrt(2.0 / input_dim)  # He-Init\n",
    "        self.b = np.zeros((output_dim, 1))\n",
    "        self.x = None     # wird im Forward gespeichert\n",
    "        self.dW = None    # Gradient der Gewichte\n",
    "        self.db = None    # Gradient des Bias\n",
    "\n",
    "    def forward(self, x):\n",
    "        \"\"\"\n",
    "        Führt den Vorwärtsdurchlauf durch: Berechnung von x @ W^T + b^T.\n",
    "\n",
    "        Args:\n",
    "            x (ndarray): Eingabe mit Shape [batch_size, input_dim]\n",
    "\n",
    "        Returns:\n",
    "            out (ndarray): Ausgabewerte mit Shape [batch_size, output_dim]\n",
    "        \"\"\"\n",
    "        self.x = x  # für den Backward-Pass speichern\n",
    "        out = x.dot(self.W.T) + self.b.T\n",
    "        return out\n",
    "\n",
    "    def backward(self, d_out):\n",
    "        \"\"\"\n",
    "        Rückwärtsdurchlauf: Berechnung der Gradienten dW, db und dx.\n",
    "\n",
    "        Args:\n",
    "            d_out (ndarray): Ableitung des Losses nach der Ausgabe (Shape: [batch_size, output_dim])\n",
    "\n",
    "        Returns:\n",
    "            dx (ndarray): Gradient der Eingabe x (Shape: [batch_size, input_dim])\n",
    "        \"\"\"\n",
    "        batch_size = self.x.shape[0]\n",
    "        self.dW = (d_out.T.dot(self.x)) / batch_size\n",
    "        self.db = (np.sum(d_out, axis=0, keepdims=True).T) / batch_size\n",
    "\n",
    "        # Gradientennorm beschränken (Gradient Clipping), um Instabilität zu vermeiden\n",
    "        max_norm = 10.0\n",
    "        norm = np.linalg.norm(self.dW)\n",
    "        if norm > max_norm:\n",
    "            self.dW *= max_norm / norm\n",
    "\n",
    "        norm_b = np.linalg.norm(self.db)\n",
    "        if norm_b > max_norm:\n",
    "            self.db *= max_norm / norm_b\n",
    "\n",
    "        dx = d_out.dot(self.W)\n",
    "        return dx\n",
    "\n",
    "    def update(self, learning_rate):\n",
    "        \"\"\"\n",
    "        Aktualisiert die Parameter (W und b) mit einem Schritt Gradient Descent.\n",
    "\n",
    "        Args:\n",
    "            learning_rate (float): Schrittweite für das Update\n",
    "        \"\"\"\n",
    "        self.W -= learning_rate * self.dW\n",
    "        self.b -= learning_rate * self.db\n"
   ]
  },
  {
   "cell_type": "markdown",
   "metadata": {},
   "source": [
    "### Unittest für LinearLayer\n",
    " \n",
    "Wir definieren einen Test für einen einfachen linearen Layer mit 2 Eingabedimensionen und 2 Ausgabeknoten. Damit überprüfen wir die Korrektheit von Forward-, Backward- und Update-Schritt anhand händisch berechneter Werte.\n",
    " \n",
    "**Testaufbau:**\n",
    " \n",
    "- **Input:**  \n",
    "\n",
    "    $ X = \\begin{pmatrix} 1.0 & 2.0 \\\\ 3.0 & 4.0 \\end{pmatrix} $\n",
    " \n",
    "- **Initiale Parameter:**  \n",
    "\n",
    "    $ W = \\begin{pmatrix} 0.1 & 0.2 \\\\ 0.3 & 0.4 \\end{pmatrix}, \\quad b = \\begin{pmatrix} 0.5 \\\\ 0.6 \\end{pmatrix} $\n",
    " \n",
    "- **Forward-Pass:**  \n",
    "\n",
    "    $ X \\cdot W^T = \\begin{pmatrix} 0.5 & 1.1 \\\\ 1.1 & 2.5 \\end{pmatrix} \\quad \\Rightarrow \\quad \\text{out} = X \\cdot W^T + b^T = \\begin{pmatrix} 1.0 & 1.7 \\\\ 1.6 & 3.1 \\end{pmatrix}$\n",
    " \n",
    "- **Backward-Pass:**  \n",
    "\n",
    "    Mit $d_{\\text{out}} = \\begin{pmatrix} 1 & 1 \\\\ 1 & 1 \\end{pmatrix}, \\quad \\text{Batchgrösse } = 2$ ergibt sich:\n",
    "\n",
    "    $ dW = \\begin{pmatrix} 2 & 3 \\\\ 2 & 3 \\end{pmatrix}, \\quad  db = \\begin{pmatrix} 1 \\\\ 1 \\end{pmatrix} $.\n",
    " \n",
    " - **Parameter-Update (mit Lernrate 0.1):**  \n",
    "\n",
    "   Neue Parameter:  \n",
    "\n",
    "   $ W_{\\text{neu}} = \\begin{pmatrix} -0.1 & -0.1 \\\\ 0.1 & 0.1 \\end{pmatrix}, \\quad b_{\\text{neu}} = \\begin{pmatrix} 0.4 \\\\ 0.5 \\end{pmatrix} $."
   ]
  },
  {
   "cell_type": "code",
   "execution_count": 40,
   "metadata": {
    "ExecuteTime": {
     "end_time": "2025-03-22T19:55:17.478538Z",
     "start_time": "2025-03-22T19:55:17.473894Z"
    }
   },
   "outputs": [
    {
     "name": "stdout",
     "output_type": "stream",
     "text": [
      "Unittest für LinearLayer erfolgreich bestanden.\n"
     ]
    }
   ],
   "source": [
    "def test_linear_layer():\n",
    "    \"\"\"\n",
    "    Führt einen Unittest für die Klasse `LinearLayer` durch.\n",
    "    \n",
    "    Der Test prüft:\n",
    "    - ob der Forward-Pass korrekt rechnet (x * W^T + b^T),\n",
    "    - ob die Gradienten im Backward-Pass korrekt berechnet werden,\n",
    "    - ob die Parameter-Updates wie erwartet verlaufen.\n",
    "    \n",
    "    Erwartete Werte basieren auf manuell nachvollziehbaren Testdaten.\n",
    "    \"\"\"\n",
    "    \n",
    "    # Feste Testwerte für den Input (2 Beispiele, 2 Merkmale)\n",
    "    X_test_input = np.array([[1.0, 2.0],\n",
    "                             [3.0, 4.0]])\n",
    "    \n",
    "    # Instanziiere einen LinearLayer mit 2 Inputs, 2 Outputs\n",
    "    layer = LinearLayer(input_dim=2, output_dim=2)\n",
    "    \n",
    "    # Manuelles Setzen der Gewichte und Biases für Reproduzierbarkeit\n",
    "    layer.W = np.array([[0.1, 0.2],\n",
    "                        [0.3, 0.4]])\n",
    "    layer.b = np.array([[0.5],\n",
    "                        [0.6]])\n",
    "    \n",
    "    # Forward-Pass durchführen\n",
    "    out = layer.forward(X_test_input)\n",
    "    expected_out = np.array([[1.0, 1.7],\n",
    "                             [1.6, 3.1]])  # Vorher berechnete Ausgabe\n",
    "    assert np.allclose(out, expected_out, atol=1e-6), f\"Forward-Pass fehlerhaft: {out} != {expected_out}\"\n",
    "    \n",
    "    # Backward-Pass: Einfacher Gradient (alle 1)\n",
    "    d_out = np.ones((2, 2))  # z.B. aus Cross-Entropy + Softmax\n",
    "    layer.backward(d_out)\n",
    "    \n",
    "    # Erwartete Gradienten (berechnet mit obigem Input)\n",
    "    expected_dW = np.array([[2, 3],\n",
    "                            [2, 3]])\n",
    "    expected_db = np.array([[1],\n",
    "                            [1]])\n",
    "    assert np.allclose(layer.dW, expected_dW, atol=1e-6), f\"dW fehlerhaft: {layer.dW} != {expected_dW}\"\n",
    "    assert np.allclose(layer.db, expected_db, atol=1e-6), f\"db fehlerhaft: {layer.db} != {expected_db}\"\n",
    "    \n",
    "    # Update mit Lernrate 0.1\n",
    "    learning_rate = 0.1\n",
    "    layer.update(learning_rate)\n",
    "    \n",
    "    expected_W_new = np.array([[0.1, 0.2],\n",
    "                               [0.3, 0.4]]) - 0.1 * expected_dW\n",
    "    expected_b_new = np.array([[0.5],\n",
    "                               [0.6]]) - 0.1 * expected_db\n",
    "    \n",
    "    assert np.allclose(layer.W, expected_W_new, atol=1e-6), f\"W update fehlerhaft: {layer.W} != {expected_W_new}\"\n",
    "    assert np.allclose(layer.b, expected_b_new, atol=1e-6), f\"b update fehlerhaft: {layer.b} != {expected_b_new}\"\n",
    "    \n",
    "    print(\"Unittest für LinearLayer erfolgreich bestanden.\")\n",
    "\n",
    "# Test ausführen\n",
    "test_linear_layer()"
   ]
  },
  {
   "cell_type": "markdown",
   "metadata": {},
   "source": [
    "## Aufgabe 3 – Einfaches neuronales Netzwerk zur Klassifikation einer Ziffer\n",
    "\n",
    "In dieser Aufgabe bauen wir ein einfaches neuronales Netzwerk mit NumPy, das erkennen soll, ob ein gegebenes Bild die Ziffer **7** darstellt oder nicht. Es handelt sich um eine **binäre Klassifikation**, bei der das Modell zwischen \"Ziffer 7\" und \"nicht 7\" unterscheiden soll.\n",
    "\n",
    "Bevor wir mit der Modellierung beginnen, bereiten wir die Eingabedaten entsprechend vor.\n",
    "\n",
    "\n",
    "### Datenumwandlung: Torch-Dataset nach NumPy + binäre Zielvariable\n",
    "\n",
    "Für die nachfolgenden Aufgaben extrahieren wir die Bilddaten und zugehörigen Labels aus dem `torchvision`-MNIST-Datensatz und wandeln sie in `NumPy`-Arrays um.  \n",
    "Dabei wird jedes Bild der Form **(1 × 28 × 28)** in einen flachen Vektor mit **784 Pixelwerten** umgeformt, was die Weiterverarbeitung in unserem selbstgebauten Netzwerk vereinfacht."
   ]
  },
  {
   "cell_type": "code",
   "execution_count": 41,
   "metadata": {
    "ExecuteTime": {
     "end_time": "2025-03-22T19:55:20.431897Z",
     "start_time": "2025-03-22T19:55:17.493967Z"
    }
   },
   "outputs": [
    {
     "name": "stdout",
     "output_type": "stream",
     "text": [
      "X_train shape: (60000, 784)\n",
      "y_train_bin shape: (60000,)\n",
      "Beispielbild (flach) shape: (784,)\n",
      "Beispiel-Label (binär): 0\n"
     ]
    }
   ],
   "source": [
    "def dataset_to_numpy(dataset):\n",
    "    \"\"\"Konvertiert ein torchvision Dataset in NumPy Arrays.\n",
    "\n",
    "    Bilder werden zu flachen Vektoren (784-dim) umgewandelt,\n",
    "    Labels bleiben erhalten.\n",
    "    \"\"\"\n",
    "    X, y = [], []\n",
    "    for img, label in dataset:\n",
    "        X.append(img.numpy().reshape(-1)) # Flatten von 1x28x28 → 784\n",
    "        y.append(label)\n",
    "    return np.array(X), np.array(y)\n",
    "\n",
    "# Daten vorbereiten\n",
    "X_train, y_train = dataset_to_numpy(train_dataset)\n",
    "X_test, y_test   = dataset_to_numpy(test_dataset)\n",
    "\n",
    "# Binäre Klassifikation: 1 falls Label == 7, sonst 0\n",
    "y_train_bin = (y_train == 7).astype(np.int32)\n",
    "y_test_bin  = (y_test == 7).astype(np.int32)\n",
    "\n",
    "# Ausgabe zur Kontrolle\n",
    "print(\"X_train shape:\", X_train.shape)             # Erwartet: (60000, 784)\n",
    "print(\"y_train_bin shape:\", y_train_bin.shape)     # Erwartet: (60000,)\n",
    "\n",
    "# Format eines einzelnen Datenpunkts\n",
    "print(\"Beispielbild (flach) shape:\", X_train[0].shape)  # Erwartet: (784,)\n",
    "print(\"Beispiel-Label (binär):\", y_train_bin[0])         # Erwartet: 0 oder 1"
   ]
  },
  {
   "cell_type": "markdown",
   "metadata": {},
   "source": [
    "### Aktivierungsfunktionen: ReLU und Sigmoid\n",
    "\n",
    "Für den Hidden Layer verwenden wir ReLU, für den Output-Layer Sigmoid."
   ]
  },
  {
   "cell_type": "code",
   "execution_count": 42,
   "metadata": {
    "ExecuteTime": {
     "end_time": "2025-03-22T19:55:20.532841Z",
     "start_time": "2025-03-22T19:55:20.529774Z"
    }
   },
   "outputs": [],
   "source": [
    "# Aktivierungsfunktionen und deren Ableitungen\n",
    "def sigmoid(x):\n",
    "    \"\"\"Sigmoid-Aktivierungsfunktion\"\"\"\n",
    "    return 1 / (1 + np.exp(-x))\n",
    "\n",
    "def sigmoid_derivative(x):\n",
    "    \"\"\"Ableitung der Sigmoid-Aktivierungsfunktion\"\"\"\n",
    "    s = sigmoid(x)\n",
    "    return s * (1 - s)\n",
    "\n",
    "def relu(x):\n",
    "    \"\"\"ReLU-Aktivierungsfunktion\"\"\"\n",
    "    return np.maximum(0, x)\n",
    "\n",
    "def relu_derivative(x):\n",
    "    \"\"\"Ableitung der ReLU-Aktivierungsfunktion\"\"\"\n",
    "    return (x > 0).astype(float)"
   ]
  },
  {
   "cell_type": "markdown",
   "metadata": {},
   "source": [
    "### Verlustfunktion: Binary Cross Entropy (mit Gewichtung)\n",
    "\n",
    "Für die Bewertung der Modellleistung in binären Klassifikationsproblemen wird in dieser Aufgabe die Binary Cross-Entropy (BCE) als Verlustfunktion verwendet. Sie misst den Unterschied zwischen den vorhergesagten Wahrscheinlichkeiten und den tatsächlichen binären Zielwerten (0 oder 1).\n",
    "Je näher die vorhergesagten Wahrscheinlichkeiten an den tatsächlichen Labels liegen, desto geringer ist der BCE-Wert.\n",
    "\n",
    "Die BCE ist besonders dann geeignet, wenn im Ausgang eine Sigmoid-Aktivierung verwendet wird, da beide mathematisch gut aufeinander abgestimmt sind.\n",
    "\n",
    "Zusätzlich wird eine gewichtete Variante der BCE eingesetzt, um dem Klassenungleichgewicht Rechnung zu tragen. So wird beispielsweise die Ziffer \"7\", die im Datensatz seltener vorkommt, durch einen Gewichtungsfaktor stärker in der Verlustberechnung berücksichtigt. Dies verhindert, dass das Modell bevorzugt nur die Mehrheitsklasse lernt."
   ]
  },
  {
   "cell_type": "code",
   "execution_count": 43,
   "metadata": {
    "ExecuteTime": {
     "end_time": "2025-03-22T19:55:20.564666Z",
     "start_time": "2025-03-22T19:55:20.560433Z"
    }
   },
   "outputs": [],
   "source": [
    "def compute_loss(y_true, y_pred):\n",
    "    \"\"\"\n",
    "    Berechnet den Binary Cross-Entropy Loss für binäre Klassifikationsprobleme.\n",
    "\n",
    "    Args:\n",
    "        y_true (ndarray): Wahre Labels (0 oder 1), Shape: [n_samples]\n",
    "        y_pred (ndarray): Vorhergesagte Wahrscheinlichkeiten, Shape: [n_samples]\n",
    "\n",
    "    Returns:\n",
    "        float: Mittlerer BCE-Loss über alle Beispiele\n",
    "    \"\"\"\n",
    "    epsilon = 1e-8 # Zum Schutz vor log(0)\n",
    "    loss = -np.mean(y_true * np.log(y_pred + epsilon) + (1 - y_true) * np.log(1 - y_pred + epsilon))\n",
    "    return loss\n",
    "\n",
    "# Gewichteter Loss, um die Klassenungleichheit ( 7 vs. Rest der Ziffern ) auszugleichen\n",
    "def compute_loss_weighted(y_true, y_pred, weight_pos=3):\n",
    "    \"\"\"\n",
    "    Berechnet den gewichteten Binary Cross-Entropy Loss, um Klassenungleichgewicht zu adressieren.\n",
    "    Positive Beispiele (z.B. Ziffer 7) werden mit 'weight_pos' stärker gewichtet.\n",
    "\n",
    "    Args:\n",
    "        y_true (ndarray): Wahre Labels (0 oder 1), Shape: [n_samples]\n",
    "        y_pred (ndarray): Vorhergesagte Wahrscheinlichkeiten, Shape: [n_samples]\n",
    "        weight_pos (float): Gewichtungsfaktor für positive Klasse (Standard: 3)\n",
    "\n",
    "    Returns:\n",
    "        float: Gewichteter mittlerer BCE-Loss\n",
    "    \"\"\"\n",
    "    epsilon = 1e-8 # Schutz vor log(0)\n",
    "    y_true = y_true.astype(float).flatten()\n",
    "    y_pred = y_pred.flatten()\n",
    "    \n",
    "    # Verlustterm für positive und negative Beispiele getrennt gewichtet\n",
    "    term_pos = weight_pos * y_true * np.log(y_pred + epsilon)\n",
    "    term_neg = (1 - y_true) * np.log(1 - y_pred + epsilon)\n",
    "    \n",
    "    loss = -np.mean(term_pos + term_neg)\n",
    "    return loss"
   ]
  },
  {
   "cell_type": "markdown",
   "metadata": {},
   "source": [
    "#### Alternative Kostenfunktionen für die binäre Klassifikation\n",
    "\n",
    "In dieser Aufgabe wurde die **Binary Cross-Entropy (BCE)** verwendet, da sie speziell für binäre Klassifikationsprobleme mit probabilistischen Ausgaben (z. B. durch eine Sigmoid-Aktivierung) geeignet ist. Sie misst den Unterschied zwischen den vorhergesagten Wahrscheinlichkeiten und den tatsächlichen binären Zielwerten.\n",
    "\n",
    "---\n",
    "\n",
    "##### 1. Mean Squared Error (MSE)\n",
    "\n",
    "$\\text{MSE} = \\frac{1}{N} \\sum_{i=1}^{N} (\\hat{y}_i - y_i)^2$\n",
    "\n",
    "Obwohl MSE für Regressionsaufgaben sinnvoll ist, ist sie für Klassifikationsprobleme weniger geeignet, da sie Wahrscheinlichkeiten nicht explizit modelliert. Besonders in Kombination mit Sigmoid-Ausgaben entstehen häufig Probleme mit sehr kleinen Gradienten (Sättigung), was zu langsamem oder instabilem Lernen führen kann.\n",
    "\n",
    "---\n",
    "\n",
    "##### 2. Hinge Loss (für lineare Trennung)\n",
    "\n",
    "$\\text{Hinge}(y, \\hat{y}) = \\frac{1}{N} \\sum_{i=1}^{N} \\max(0, 1 - y_i \\cdot \\hat{y}_i)$\n",
    "\n",
    "Hinge Loss wird typischerweise bei **Support Vector Machines (SVMs)** verwendet. Hierbei müssen die Labels \\( $y_i \\in \\{-1, +1\\}$ \\) sein. Die Funktion bestraft nur Fälle, bei denen die Vorhersage nicht ausreichend weit vom Trennwert entfernt ist (Margin-Verletzung). Sie eignet sich vor allem für lineare Modelle und ist weniger intuitiv bei Wahrscheinlichkeitsausgaben wie Sigmoid.\n",
    "\n",
    "---\n",
    "\n",
    "##### 3. Kullback-Leibler Divergenz (KL-Divergenz)\n",
    "\n",
    "$D_{KL}(P \\parallel Q) = \\sum_i P(i) \\log\\left( \\frac{P(i)}{Q(i)} \\right)$\n",
    "\n",
    "Die KL-Divergenz misst den Unterschied zwischen zwei Verteilungen – etwa zwischen einer echten Verteilung \\( P \\) (z.B. die One-Hot-Kodierung) und einer geschätzten Verteilung \\( Q \\) (z.B. die Softmax-Ausgabe eines Netzwerks).  \n",
    "Sie ist insbesondere im **mehrklassigen Kontext** oder beim **Vergleich ganzer Verteilungen** nützlich, aber für binäre Klassifikation weniger üblich. In gewisser Weise ist BCE bei binären Targets ein Spezialfall der KL-Divergenz.\n",
    "\n",
    "---\n",
    "\n",
    "##### Vergleich der Kostenfunktionen\n",
    "\n",
    "| Kriterium                     | BCE                             | MSE                             | Hinge Loss                     | KL-Divergenz                    |\n",
    "|------------------------------|----------------------------------|----------------------------------|--------------------------------|----------------------------------|\n",
    "| Eignung für Klassifikation   | Sehr gut                         | Eingeschränkt                    | Gut (v. a. für SVMs)           | Gut (für Verteilungen)          |\n",
    "| Probabilistische Interpretation | Ja                           | Nein                             | Nein                           | Ja                              |\n",
    "| Typische Aktivierung         | Sigmoid                          | Sigmoid                          | Linear                         | Softmax                         |\n",
    "| Gradientverhalten            | Stabil, auch bei Extremwerten    | Sättigung bei Sigmoid            | Harter Übergang (nicht glatt)  | Komplexer Gradient               |\n",
    "| Praxisrelevanz               | Standard                         | Selten in Klassifikation         | Klassisch bei SVMs             | Klassisch bei mehrklassigen Modellen |\n",
    "\n",
    "---\n",
    "\n",
    "##### Fazit\n",
    "\n",
    "Für binäre Klassifikation mit Wahrscheinlichkeitsausgaben ist **Binary Cross-Entropy** weiterhin die **geeignetste und am weitesten verbreitete** Wahl.  \n",
    "MSE kann in einfachen Settings verwendet werden, hat aber Nachteile bei der Konvergenz.  \n",
    "**Hinge Loss** eignet sich für lineare Klassifikatoren ohne probabilistische Ausgaben, während **KL-Divergenz** primär bei mehrklassigen oder generativen Ans\n"
   ]
  },
  {
   "cell_type": "markdown",
   "metadata": {},
   "source": [
    "#### Automatische Gewichtung der Klassen basierend auf Verteilung\n",
    "\n",
    "Um das Ungleichgewicht im Datensatz zwischen der Ziffer $7$ (positive Klasse) und allen anderen Ziffern (negative Klasse) auszugleichen, berechnen wir einen Gewichtungsfaktor für die positive Klasse basierend auf den beobachteten Häufigkeiten im Trainingsdatensatz.\n",
    "\n",
    "Der Gewichtungsfaktor $w_{\\text{pos}}$ wird dabei wie folgt bestimmt:\n",
    "\n",
    "$w_{\\text{pos}} = \\frac{N_0 + N_1}{2 \\cdot N_1}$\n",
    "\n",
    "wobei:\n",
    "- $N_1 =$ Anzahl positiver Beispiele (Ziffer $7$),\n",
    "- $N_0 =$ Anzahl negativer Beispiele (alle anderen).\n",
    "\n",
    "Diese Methode normalisiert die Gewichtung so, dass beide Klassen im Training gleich stark zur Verlustfunktion beitragen. Sie macht die Gewichtung datenabhängig und reduziert die Notwendigkeit manueller Abstimmung."
   ]
  },
  {
   "cell_type": "code",
   "execution_count": 44,
   "metadata": {
    "ExecuteTime": {
     "end_time": "2025-03-22T19:55:20.634393Z",
     "start_time": "2025-03-22T19:55:20.629935Z"
    }
   },
   "outputs": [
    {
     "name": "stdout",
     "output_type": "stream",
     "text": [
      "Gewicht für positive Klasse (Ziffer 7): 4.79\n"
     ]
    }
   ],
   "source": [
    "# y_train_bin enthält 0 (nicht-7) und 1 (Ziffer 7)\n",
    "N1 = np.sum(y_train_bin == 1)  # Anzahl positiver Beispiele (Ziffer 7)\n",
    "N0 = np.sum(y_train_bin == 0)  # Anzahl negativer Beispiele (alle anderen Ziffern)\n",
    "\n",
    "# Option 1: Normalisierte Gewichtung – gleicht beide Klassen statistisch aus\n",
    "w_pos = (N0 + N1) / (2 * N1)\n",
    "\n",
    "# Option 2 (alternativ): Gewicht = Verhältnis negativ/positiv – stärker fokussiert auf Minoritätsklasse\n",
    "# w_pos = N0 / N1\n",
    "\n",
    "print(f\"Gewicht für positive Klasse (Ziffer 7): {w_pos:.2f}\")"
   ]
  },
  {
   "cell_type": "markdown",
   "metadata": {},
   "source": [
    "### Accuracy als Evaluationsmetrik für binäre Klassifikation\n",
    "\n",
    "Die Funktion `compute_accuracy` berechnet den Anteil korrekt klassifizierter Beispiele, basierend auf einem festen Schwellenwert von 0.5. Vorhergesagte Wahrscheinlichkeiten (`y_pred`) werden abgerundet: Werte ≥0.5 gelten als Klasse 1, alle anderen als Klasse 0.\n",
    "\n",
    "Diese Metrik ist einfach zu interpretieren und bietet eine erste grobe Einschätzung der Modellleistung. In Fällen mit starkem Klassenungleichgewicht sollte sie jedoch mit weiteren Metriken wie **Precision**, **Recall** oder **F1-Score** ergänzt werden."
   ]
  },
  {
   "cell_type": "code",
   "execution_count": 45,
   "metadata": {
    "ExecuteTime": {
     "end_time": "2025-03-22T19:55:20.669147Z",
     "start_time": "2025-03-22T19:55:20.666521Z"
    }
   },
   "outputs": [],
   "source": [
    "def compute_accuracy(y_true, y_pred):\n",
    "    \"\"\"\n",
    "    Berechnet die Genauigkeit (Accuracy) für binäre Klassifikation.\n",
    "    Ein Schwellenwert von 0.5 entscheidet zwischen Klasse 0 und 1.\n",
    "\n",
    "    Args:\n",
    "        y_true (ndarray): Wahre Labels (0 oder 1), Shape: [n_samples]\n",
    "        y_pred (ndarray): Vorhergesagte Wahrscheinlichkeiten, Shape: [n_samples]\n",
    "\n",
    "    Returns:\n",
    "        float: Anteil korrekt klassifizierter Beispiele\n",
    "    \"\"\"\n",
    "    preds = (y_pred >= 0.5).astype(int).flatten()\n",
    "    return np.mean(preds == y_true.astype(int))"
   ]
  },
  {
   "cell_type": "markdown",
   "metadata": {},
   "source": [
    "### Netzwerkarchitektur: Klasse `SimpleNN`\n",
    "\n",
    "Die Klasse SimpleNN implementiert ein einfaches, vollständig verbundenes neuronales Netzwerk für binäre Klassifikationsaufgaben.\n",
    "Das Modell ist darauf ausgelegt, zwischen zwei Klassen zu unterscheiden – z.B. ob ein gegebenes MNIST-Bild die Ziffer 7 zeigt oder nicht.\n",
    "Aufbau:\n",
    "\n",
    "- Eingabeschicht: Erwartet flache Vektoren (z.B. 784 für 28×28 Pixel)\n",
    "- Versteckter Layer: Linear-Transformation mit ReLU-Aktivierung\n",
    "- Ausgabeschicht: Linear-Transformation mit Sigmoid-Aktivierung, die eine Wahrscheinlichkeitsverteilung über der positiven Klasse liefert\n",
    "- Backward-Pass: Unterstützt gewichtete Fehlerfunktion, um Klassendiskrepanzen auszugleichen (z.B. seltener auftretende Zielklassen stärker zu gewichten)"
   ]
  },
  {
   "cell_type": "code",
   "execution_count": 46,
   "metadata": {
    "ExecuteTime": {
     "end_time": "2025-03-22T19:55:20.676940Z",
     "start_time": "2025-03-22T19:55:20.672765Z"
    }
   },
   "outputs": [],
   "source": [
    "class SimpleNN:\n",
    "    \"\"\"\n",
    "    Ein einfaches Feedforward-Netzwerk mit einem versteckten (Hidden) Layer und einem Sigmoid-Ausgang.\n",
    "    Dieses Netzwerk ist speziell für binäre Klassifikationsaufgaben geeignet (z.B. Ziffer 7 vs. Rest).\n",
    "\n",
    "    Architektur:\n",
    "    - Linear → ReLU (Hidden Layer)\n",
    "    - Linear → Sigmoid (Output Layer)\n",
    "\n",
    "    Unterstützt Forward- und Backward-Pass mit optional gewichteter Fehlerfunktion.\n",
    "    \"\"\"\n",
    "\n",
    "    def __init__(self, input_dim, hidden_dim, output_dim):\n",
    "        \"\"\"\n",
    "        Initialisiert das Netzwerk mit zwei vollständig verbundenen Schichten.\n",
    "\n",
    "        Args:\n",
    "            input_dim (int): Anzahl der Eingabefeatures (z.B. 784 für MNIST)\n",
    "            hidden_dim (int): Anzahl der Neuronen im versteckten Layer\n",
    "            output_dim (int): Dimension des Outputs (für binär = 1)\n",
    "        \"\"\"\n",
    "        self.layer1 = LinearLayer(input_dim, hidden_dim)\n",
    "        self.layer2 = LinearLayer(hidden_dim, output_dim)\n",
    "\n",
    "    def forward(self, x):\n",
    "        \"\"\"\n",
    "        Führt einen vollständigen Vorwärtsdurchlauf durch.\n",
    "\n",
    "        Ablauf:\n",
    "        - Eingabe → Hidden Layer (Linear + ReLU)\n",
    "        - Hidden → Output Layer (Linear + Sigmoid)\n",
    "\n",
    "        Args:\n",
    "            x (ndarray): Eingabematrix, Shape: [batch_size, input_dim]\n",
    "\n",
    "        Returns:\n",
    "            ndarray: Vorhergesagte Wahrscheinlichkeiten, Shape: [batch_size, 1]\n",
    "        \"\"\"\n",
    "        self.z1 = self.layer1.forward(x)\n",
    "        self.a1 = relu(self.z1)\n",
    "        self.z2 = self.layer2.forward(self.a1)\n",
    "        self.a2 = sigmoid(self.z2)\n",
    "        return self.a2\n",
    "\n",
    "    def backward(self, x, y, output, weight_pos=1):\n",
    "        \"\"\"\n",
    "        Führt den Rückwärtsdurchlauf (Backpropagation) durch und berechnet die Gradienten.\n",
    "        Optional: Gewichtung der positiven Klasse (z.B. Ziffer 7), um Klassenungleichgewicht zu kompensieren.\n",
    "\n",
    "        Args:\n",
    "            x (ndarray): Eingabe, Shape: [batch_size, input_dim]\n",
    "            y (ndarray): Wahre binäre Labels (0 oder 1), Shape: [batch_size]\n",
    "            output (ndarray): Vorhergesagte Wahrscheinlichkeiten, Shape: [batch_size, 1]\n",
    "            weight_pos (float): Gewichtungsfaktor für positive Beispiele (Standard: 3)\n",
    "        \"\"\"\n",
    "        # Gewichtsfaktor: positive Beispiele stärker gewichten\n",
    "        weight_factor = np.where(y.reshape(-1, 1) == 1, weight_pos, 1)\n",
    "\n",
    "        # Gradienten der Ausgabeschicht (vereinfachter BCE-Gradient)\n",
    "        dz2 = (output - y.reshape(-1, 1)) * weight_factor\n",
    "        da1 = self.layer2.backward(dz2)\n",
    "\n",
    "        # Gradienten der versteckten Schicht (mit ReLU-Ableitung)\n",
    "        dz1 = da1 * relu_derivative(self.z1)\n",
    "        self.layer1.backward(dz1)\n",
    "\n",
    "    def update(self, learning_rate):\n",
    "        \"\"\"\n",
    "        Führt das Update der Modellparameter (Gewichte und Biases) beider Schichten durch.\n",
    "\n",
    "        Args:\n",
    "            learning_rate (float): Schrittweite für Gradient Descent\n",
    "        \"\"\"\n",
    "        self.layer1.update(learning_rate)\n",
    "        self.layer2.update(learning_rate)\n"
   ]
  },
  {
   "cell_type": "markdown",
   "metadata": {},
   "source": [
    "### Trainingsloop mit vollständigem Batch-Training\n",
    "\n",
    "Das Training erfolgt über mehrere Epochen, wobei in jeder Epoche der gesamte Trainingsdatensatz auf einmal verwendet wird.  \n",
    "Dies nennt man **Batch-Training** (auch \"Full-Batch Gradient Descent\") – im Gegensatz zum häufig verwendeten **Mini-Batch-Verfahren**, bei dem das Training in kleinere Teilmengen (Batches) aufgeteilt wird.\n",
    "\n",
    "Der Vorteil des Batch-Trainings liegt in der Einfachheit und Stabilität der Gradientenberechnung.  \n",
    "Allerdings kann es bei sehr grossen Datensätzen speicherintensiv oder ineffizient werden.\n",
    "\n",
    "In dieser Aufgabe ist der komplette Datensatz (oder ein ausgewähltes Subset) klein genug, um in den Speicher zu passen, sodass ein vollständiger Batch sinnvoll ist.\n",
    "\n",
    "Zusätzlich unterstützt die Trainingsfunktion eine **gewichtete Fehlerfunktion**, mit der positive Klassenbeispiele (z.B. Ziffer 7) verstärkt berücksichtigt werden können.  \n",
    "Dies gleicht **Klassenungleichgewichte** im Datensatz aus – ein häufiges Problem bei unbalancierten Klassifikationsaufgaben.\n"
   ]
  },
  {
   "cell_type": "code",
   "execution_count": 47,
   "metadata": {
    "ExecuteTime": {
     "end_time": "2025-03-22T19:55:20.696541Z",
     "start_time": "2025-03-22T19:55:20.692901Z"
    }
   },
   "outputs": [],
   "source": [
    "def train_binary_nn_weighted(model, X, y, epochs, learning_rate, weight_pos=1):\n",
    "    \"\"\"\n",
    "    Trainiert ein binäres neuronales Netzwerk mit gewichteter Fehlerfunktion.\n",
    "\n",
    "    Der Trainingsprozess erfolgt über vollständige Batches (kein Mini-Batch).\n",
    "    Positive Beispiele (z.B. Klasse 7) können stärker gewichtet werden, um Klassenungleichgewicht zu kompensieren.\n",
    "\n",
    "    Args:\n",
    "        model (SimpleNN): Das zu trainierende Netzwerkmodell\n",
    "        X (ndarray): Trainingsdaten, Shape: [n_samples, n_features]\n",
    "        y (ndarray): Wahre Labels (0 oder 1), Shape: [n_samples]\n",
    "        epochs (int): Anzahl Trainingsdurchläufe\n",
    "        learning_rate (float): Lernrate für das Update der Gewichte\n",
    "        weight_pos (float): Gewichtungsfaktor für positive Klasse (Standard: 1 = keine Gewichtung)\n",
    "\n",
    "    Returns:\n",
    "        loss_history (list): Liste der Verlaufswerte des Loss pro Epoche\n",
    "        acc_history (list): Liste der Accuracy-Werte pro Epoche\n",
    "    \"\"\"\n",
    "    loss_history = []\n",
    "    acc_history = []\n",
    "\n",
    "    for epoch in range(epochs):\n",
    "        # Forward-Pass: Vorhersagen berechnen\n",
    "        output = model.forward(X)\n",
    "\n",
    "        # Verlust und Accuracy berechnen\n",
    "        loss = compute_loss_weighted(y, output, weight_pos)\n",
    "        acc = compute_accuracy(y, output)\n",
    "        loss_history.append(loss)\n",
    "        acc_history.append(acc)\n",
    "\n",
    "        # Backward-Pass mit Gewichtung → Gradienten berechnen und anwenden\n",
    "        model.backward(X, y, output, weight_pos)\n",
    "        model.update(learning_rate)\n",
    "\n",
    "        # Fortschritt anzeigen\n",
    "        print(f\"Epoch {epoch+1:2d}/{epochs} – Loss: {loss:.4f} – Acc: {acc*100:.2f}% – LR: {learning_rate}\")\n",
    "\n",
    "    return loss_history, acc_history"
   ]
  },
  {
   "cell_type": "markdown",
   "metadata": {},
   "source": [
    "### Visualisierung des Trainingsverlaufs (Referenzmodell)\n",
    "\n",
    "Der folgende Plot zeigt den Verlauf von Loss und Accuracy über die Trainings-Epochen für gewählte Modell. \n",
    "Dies hilft einzuschätzen, ob das Modell gut konvergiert und ob Anzeichen von Overfitting oder Instabilität erkennbar sind."
   ]
  },
  {
   "cell_type": "code",
   "execution_count": 48,
   "metadata": {
    "ExecuteTime": {
     "end_time": "2025-03-22T19:55:20.715952Z",
     "start_time": "2025-03-22T19:55:20.711651Z"
    }
   },
   "outputs": [],
   "source": [
    "def plot_training_progress(loss_history, acc_history):\n",
    "    \"\"\"\n",
    "    Visualisiert den Trainingsverlauf über alle Epochen.\n",
    "\n",
    "    Erstellt zwei nebeneinanderliegende Liniendiagramme:\n",
    "    - Verlust (Loss) über die Epochen\n",
    "    - Genauigkeit (Accuracy) über die Epochen\n",
    "\n",
    "    Args:\n",
    "        loss_history (list or ndarray): Liste der Loss-Werte je Epoche\n",
    "        acc_history (list or ndarray): Liste der Accuracy-Werte je Epoche\n",
    "    \"\"\"\n",
    "    epochs = range(1, len(loss_history) + 1)\n",
    "    \n",
    "    plt.figure(figsize=(10, 4))\n",
    "\n",
    "    # Plot: Verlustverlauf\n",
    "    plt.subplot(1, 2, 1)\n",
    "    plt.plot(epochs, loss_history, marker='o')\n",
    "    plt.title(\"Verlauf des Verlusts\")\n",
    "    plt.xlabel(\"Epoche\")\n",
    "    plt.ylabel(\"Loss\")\n",
    "    plt.grid(True)\n",
    "\n",
    "    # Plot: Genauigkeitsverlauf\n",
    "    plt.subplot(1, 2, 2)\n",
    "    plt.plot(epochs, acc_history, marker='o', color='green')\n",
    "    plt.title(\"Verlauf der Accuracy\")\n",
    "    plt.xlabel(\"Epoche\")\n",
    "    plt.ylabel(\"Accuracy\")\n",
    "    plt.grid(True)\n",
    "\n",
    "    plt.tight_layout()\n",
    "    plt.show()"
   ]
  },
  {
   "cell_type": "markdown",
   "metadata": {},
   "source": [
    "### Mathematischer Hintergrund\n",
    "\n",
    "Hier beschreiben wir die verwendeten Formeln für Verlustfunktion, Gradienten und Gewichtung.\n",
    "\n",
    "\n",
    " **Mathematische Definition der Binary Cross Entropy:**  \n",
    "\n",
    " $L = -\\frac{1}{N}\\sum_{i=1}^{N} \\Big[y_i \\log(\\hat{y}_i) + (1-y_i) \\log(1-\\hat{y}_i)\\Big]$\n",
    " \n",
    " _Hinweis:_ Für die Ableitungen nutzen wir die Eigenschaft, dass bei Verwendung von Sigmoid in Kombination mit der BCE der Gradiententerm vereinfacht zu $\\hat{y} - y$ wird.\n",
    "\n",
    "\n",
    " In diesem Modell haben wir eine ungleiche Verteilung der Klassen: Die Ziffer 7 tritt seltener auf als die anderen Ziffern. Um das Training nicht von der Mehrheitsklasse dominieren zu lassen, wenden wir eine Gewichtung an, die positive Beispiele (Ziffer 7) stärker berücksichtigt.\n",
    "\n",
    "**Gewichtung im Backpropagation-Schritt**\n",
    "\n",
    "Im Backward-Pass wird der Fehler gewichtet, indem ein Faktor  $w_{\\text{pos}}$  für positive Beispiele ( y = 1 ) eingeführt wird:\n",
    "\n",
    "\n",
    "$\\delta_2 = ( \\hat{y} - y ) \\cdot w(y)$\n",
    "\n",
    "\n",
    "wobei die Gewichtungsfunktion definiert ist als:\n",
    "\n",
    "\n",
    "$w(y) =\n",
    "\\begin{cases}\n",
    "w_{\\text{pos}}, & \\text{wenn } y = 1 \\\\\n",
    "1, & \\text{wenn } y = 0\n",
    "\\end{cases}$\n",
    "\n",
    "\n",
    "**Gewichtete Verlustfunktion (Binary Cross Entropy)**\n",
    "\n",
    "Die Standard-Binary-Cross-Entropy-Verlustfunktion wird durch die Gewichtung für positive Beispiele angepasst:\n",
    "\n",
    "\n",
    "$L = - \\frac{1}{N} \\sum_{i=1}^{N} \\left[ w_{\\text{pos}} y_i \\log \\hat{y}_i + (1 - y_i) \\log (1 - \\hat{y}_i) \\right]$\n",
    "\n",
    "\n",
    "Diese Methode sorgt dafür, dass Fehler bei der Ziffer 7 (die seltener vorkommt) stärker ins Training einfliessen und nicht von den anderen Ziffern überlagert werden."
   ]
  },
  {
   "cell_type": "markdown",
   "metadata": {},
   "source": [
    "## Aufgabe 4 – Training mit variierenden Hyperparametern\n",
    " \n",
    "In dieser Aufgabe analysieren wir, wie sich zentrale Hyperparameter auf das Lernverhalten und die Modellleistung auswirken. Insbesondere untersuchen wir den Einfluss von:\n",
    "\n",
    "- der **Lernrate** (`learning_rate`)\n",
    "- der **Grösse des Hidden Layers** (`hidden_dim`)\n",
    "\n",
    "Ziel ist es, zu verstehen, welche Kombinationen dieser Parameter ein gutes Gleichgewicht zwischen Lernfähigkeit, Konvergenzgeschwindigkeit und Modellgenauigkeit ermöglichen. Um die Rechenzeit zu reduzieren, verwenden wir für alle Experimente nur eine Stichprobe von 5.000 Trainingsbeispielen. \n",
    "\n",
    "\n",
    "### Netzwerkkonfiguration für die Experimente\n",
    "\n",
    "Für die folgenden Trainingsläufe wählen wir die folgende Netzwerkstruktur:\n",
    "\n",
    "- **Input-Dimension:** 784 (entspricht 28×28 Pixel pro Bild)\n",
    "- **Hidden-Dimension:** 32 Neuronen im versteckten Layer  \n",
    "- **Output-Dimension:** 1 Neuron mit Sigmoid-Aktivierung (für binäre Klassifikation)\n",
    "- **Lernrate:** 0.1 (wird im späteren Verlauf variiert)\n",
    "\n",
    "Die vorbereiteten Trainingsdaten liegen in den Arrays `X_train` (flache Bilder) und `y_train_bin` (Labels: 1 = Ziffer 7, sonst 0) vor.\n",
    " \n",
    "### Referenzdurchlauf mit festen Hyperparametern\n",
    "\n",
    "Zunächst trainieren wir unser Netzwerk mit festen Parametern (`hidden_dim = 32`, `learning_rate = 0.1`) über 10 Epochen. Dieser Lauf dient als Ausgangspunkt für spätere Vergleiche und gibt einen ersten Eindruck vom Lernverhalten.\n",
    "\n",
    "Anschliessend evaluieren wir das Modell auf dem vollständigen Testdatensatz."
   ]
  },
  {
   "cell_type": "code",
   "execution_count": 49,
   "metadata": {
    "ExecuteTime": {
     "end_time": "2025-03-22T19:55:21.029339Z",
     "start_time": "2025-03-22T19:55:20.731345Z"
    }
   },
   "outputs": [
    {
     "name": "stdout",
     "output_type": "stream",
     "text": [
      "Epoch  1/10 – Loss: 1.1724 – Acc: 17.46% – LR: 0.1\n",
      "Epoch  2/10 – Loss: 0.9099 – Acc: 80.70% – LR: 0.1\n",
      "Epoch  3/10 – Loss: 0.8081 – Acc: 90.06% – LR: 0.1\n",
      "Epoch  4/10 – Loss: 0.7305 – Acc: 93.26% – LR: 0.1\n",
      "Epoch  5/10 – Loss: 0.6643 – Acc: 94.96% – LR: 0.1\n",
      "Epoch  6/10 – Loss: 0.6068 – Acc: 95.62% – LR: 0.1\n",
      "Epoch  7/10 – Loss: 0.5569 – Acc: 95.80% – LR: 0.1\n",
      "Epoch  8/10 – Loss: 0.5136 – Acc: 95.82% – LR: 0.1\n",
      "Epoch  9/10 – Loss: 0.4759 – Acc: 95.96% – LR: 0.1\n",
      "Epoch 10/10 – Loss: 0.4432 – Acc: 96.02% – LR: 0.1\n",
      "\n",
      "Test Loss: 0.4176, Test Accuracy: 96.15%\n"
     ]
    },
    {
     "data": {
      "image/png": "[encoded data removed]",
      "text/plain": [
       "<Figure size 1000x400 with 2 Axes>"
      ]
     },
     "metadata": {},
     "output_type": "display_data"
    }
   ],
   "source": [
    "# Teilmenge des Trainingsdatensatzes verwenden (z.B. 5.000 Beispiele)\n",
    "sample_size = 5000\n",
    "X_train_sample = X_train[:sample_size]\n",
    "y_train_bin_sample = y_train_bin[:sample_size]\n",
    "\n",
    "# Hyperparameter definieren\n",
    "input_dim = 784           # Eingabegrösse (28x28 Pixel)\n",
    "hidden_dim = 32           # Anzahl Neuronen im Hidden Layer\n",
    "output_dim = 1            # Binäre Ausgabe (Wahrscheinlichkeit für Klasse \"7\")\n",
    "epochs = 10               # Anzahl Epochen\n",
    "learning_rate = 0.1       # Lernrate\n",
    "\n",
    "# Netzwerk initialisieren\n",
    "binary_nn = SimpleNN(input_dim, hidden_dim, output_dim)\n",
    "\n",
    "# Training mit gewichteter Fehlerfunktion (zur Kompensation der Klassenungleichheit)\n",
    "loss_hist, acc_hist = train_binary_nn_weighted(\n",
    "    binary_nn,\n",
    "    X_train_sample,\n",
    "    y_train_bin_sample,\n",
    "    epochs,\n",
    "    learning_rate,\n",
    "    w_pos  # Gewicht für positive Klasse (zuvor berechnet)\n",
    ")\n",
    "\n",
    "# Evaluation auf den Testdaten\n",
    "test_output = binary_nn.forward(X_test)\n",
    "test_loss = compute_loss_weighted(y_test_bin, test_output, w_pos)\n",
    "test_acc = compute_accuracy(y_test_bin, test_output)\n",
    "\n",
    "print(f\"\\nTest Loss: {test_loss:.4f}, Test Accuracy: {test_acc*100:.2f}%\")\n",
    "\n",
    "# Visualisierung des Trainingsverlaufs\n",
    "plot_training_progress(loss_hist, acc_hist)"
   ]
  },
  {
   "cell_type": "markdown",
   "metadata": {},
   "source": [
    "### Diskussion des Trainingsverlaufs\n",
    "\n",
    "Das Netzwerk wurde mit `hidden_dim = 32`, `learning_rate = 0.1` und 5.000 Trainingsbeispielen über 10 Epochen trainiert. Die unten gezeigten Kurven für Verlust und Accuracy zeigen ein stabiles und gut konvergierendes Lernverhalten.\n",
    "\n",
    "---\n",
    "\n",
    "#### Loss-Verlauf (links)\n",
    "\n",
    "- Der Verlust nimmt über alle Epochen hinweg stetig ab.\n",
    "- In den ersten Epochen fällt de'r Verlust besonders stark, was auf eine schnelle Anpassung der Modellparameter hindeutet.\n",
    "- In späteren Epochen verlangsamt sich der Rückgang, was typisch ist, wenn das Modell sich einem Optimum annähert.\n",
    "- Der kontinuierliche Abfall des Loss deutet auf einen stabilen Lernprozess ohne Divergenz hin.\n",
    "\n",
    "---\n",
    "\n",
    "#### Accuracy-Verlauf (rechts)\n",
    "\n",
    "- Die Accuracy steigt bereits in den ersten beiden Epochen stark an – ein Zeichen dafür, dass das Modell die Grundstruktur der Klassifikation sehr schnell erlernt.\n",
    "- Anschliessend erfolgt ein stetiger, leicht abflachender Anstieg bis auf über 96% nach zehn Epochen.\n",
    "- Das Plateau gegen Ende zeigt, dass sich das Modell der maximal erreichbaren Genauigkeit für diese Parametereinstellung nähert.\n",
    "\n",
    "---\n",
    "\n",
    "#### Test-Ergebnisse\n",
    "\n",
    "- **Test Loss:** 0.4041  \n",
    "- **Test Accuracy:** 96.24%\n",
    "\n",
    "Die hohe Testgenauigkeit und der geringe Testverlust belegen, dass das Modell sehr gut generalisiert. Es zeigt keine Anzeichen von Überanpassung und ist in der Lage, neue Daten zuverlässig zu klassifizieren.\n",
    "\n",
    "---\n",
    "\n",
    "#### Fazit\n",
    "\n",
    "- Das Modell lernt zuverlässig und effizient, sowohl auf den Trainingsdaten als auch auf bisher ungesehenen Testdaten.\n",
    "- Sowohl Verlust- als auch Genauigkeitsverlauf deuten auf ein stabiles Training hin.\n",
    "- Die Hyperparameterwahl (Lernrate, Hidden Layer-Grösse, Gewichtung) ermöglicht eine effektive Unterscheidung zwischen Ziffer 7 und allen anderen Klassen."
   ]
  },
  {
   "cell_type": "markdown",
   "metadata": {},
   "source": [
    "### Vergleich verschiedener Lernraten und Hidden-Grössen\n",
    "\n",
    "Im zweiten Schritt variieren wir systematisch die Lernrate (`0.01`, `0.1`, `1.0`) und die Grösse des Hidden Layers (`4`, `8`, `16`). Für jede Kombination wird das Netzwerk neu initialisiert, trainiert und auf dem Testdatensatz evaluiert.\n",
    "\n",
    "Die Ergebnisse zeigen, wie sensibel das Netzwerk auf diese Hyperparameter reagiert. Sie helfen bei der Auswahl geeigneter Modelle für spätere, komplexere Klassifikationsaufgaben."
   ]
  },
  {
   "cell_type": "code",
   "execution_count": 50,
   "metadata": {
    "ExecuteTime": {
     "end_time": "2025-03-22T19:55:22.454870Z",
     "start_time": "2025-03-22T19:55:21.044692Z"
    }
   },
   "outputs": [
    {
     "name": "stdout",
     "output_type": "stream",
     "text": [
      "\n",
      "Training mit Lernrate=0.01 und Hidden-Dimension=4\n",
      "Epoch  1/10 – Loss: 1.0658 – Acc: 29.60% – LR: 0.01\n",
      "Epoch  2/10 – Loss: 1.0145 – Acc: 40.74% – LR: 0.01\n",
      "Epoch  3/10 – Loss: 0.9673 – Acc: 51.64% – LR: 0.01\n",
      "Epoch  4/10 – Loss: 0.9253 – Acc: 60.88% – LR: 0.01\n",
      "Epoch  5/10 – Loss: 0.8887 – Acc: 68.28% – LR: 0.01\n",
      "Epoch  6/10 – Loss: 0.8566 – Acc: 73.64% – LR: 0.01\n",
      "Epoch  7/10 – Loss: 0.8281 – Acc: 77.76% – LR: 0.01\n",
      "Epoch  8/10 – Loss: 0.8026 – Acc: 80.66% – LR: 0.01\n",
      "Epoch  9/10 – Loss: 0.7794 – Acc: 82.54% – LR: 0.01\n",
      "Epoch 10/10 – Loss: 0.7582 – Acc: 84.30% – LR: 0.01\n",
      "Test Accuracy: 86.36%\n",
      "\n",
      "Training mit Lernrate=0.01 und Hidden-Dimension=8\n",
      "Epoch  1/10 – Loss: 0.9576 – Acc: 70.86% – LR: 0.01\n",
      "Epoch  2/10 – Loss: 0.9516 – Acc: 73.78% – LR: 0.01\n",
      "Epoch  3/10 – Loss: 0.9456 – Acc: 76.10% – LR: 0.01\n",
      "Epoch  4/10 – Loss: 0.9396 – Acc: 78.08% – LR: 0.01\n",
      "Epoch  5/10 – Loss: 0.9336 – Acc: 80.22% – LR: 0.01\n",
      "Epoch  6/10 – Loss: 0.9276 – Acc: 81.78% – LR: 0.01\n",
      "Epoch  7/10 – Loss: 0.9215 – Acc: 82.92% – LR: 0.01\n",
      "Epoch  8/10 – Loss: 0.9154 – Acc: 84.36% – LR: 0.01\n",
      "Epoch  9/10 – Loss: 0.9092 – Acc: 85.42% – LR: 0.01\n",
      "Epoch 10/10 – Loss: 0.9030 – Acc: 86.34% – LR: 0.01\n",
      "Test Accuracy: 88.16%\n",
      "\n",
      "Training mit Lernrate=0.01 und Hidden-Dimension=16\n",
      "Epoch  1/10 – Loss: 0.9667 – Acc: 84.22% – LR: 0.01\n",
      "Epoch  2/10 – Loss: 0.9521 – Acc: 85.02% – LR: 0.01\n",
      "Epoch  3/10 – Loss: 0.9381 – Acc: 85.86% – LR: 0.01\n",
      "Epoch  4/10 – Loss: 0.9246 – Acc: 86.46% – LR: 0.01\n",
      "Epoch  5/10 – Loss: 0.9116 – Acc: 87.02% – LR: 0.01\n",
      "Epoch  6/10 – Loss: 0.8991 – Acc: 87.58% – LR: 0.01\n",
      "Epoch  7/10 – Loss: 0.8870 – Acc: 88.00% – LR: 0.01\n",
      "Epoch  8/10 – Loss: 0.8752 – Acc: 88.46% – LR: 0.01\n",
      "Epoch  9/10 – Loss: 0.8639 – Acc: 88.74% – LR: 0.01\n",
      "Epoch 10/10 – Loss: 0.8529 – Acc: 88.98% – LR: 0.01\n",
      "Test Accuracy: 90.33%\n",
      "\n",
      "Training mit Lernrate=0.1 und Hidden-Dimension=4\n",
      "Epoch  1/10 – Loss: 0.9525 – Acc: 75.18% – LR: 0.1\n",
      "Epoch  2/10 – Loss: 0.9050 – Acc: 86.16% – LR: 0.1\n",
      "Epoch  3/10 – Loss: 0.8637 – Acc: 88.62% – LR: 0.1\n",
      "Epoch  4/10 – Loss: 0.8242 – Acc: 89.56% – LR: 0.1\n",
      "Epoch  5/10 – Loss: 0.7847 – Acc: 90.68% – LR: 0.1\n",
      "Epoch  6/10 – Loss: 0.7450 – Acc: 92.30% – LR: 0.1\n",
      "Epoch  7/10 – Loss: 0.7058 – Acc: 93.86% – LR: 0.1\n",
      "Epoch  8/10 – Loss: 0.6671 – Acc: 95.02% – LR: 0.1\n",
      "Epoch  9/10 – Loss: 0.6288 – Acc: 95.96% – LR: 0.1\n",
      "Epoch 10/10 – Loss: 0.5923 – Acc: 96.34% – LR: 0.1\n",
      "Test Accuracy: 96.76%\n",
      "\n",
      "Training mit Lernrate=0.1 und Hidden-Dimension=8\n",
      "Epoch  1/10 – Loss: 0.9196 – Acc: 75.92% – LR: 0.1\n",
      "Epoch  2/10 – Loss: 0.8366 – Acc: 87.78% – LR: 0.1\n",
      "Epoch  3/10 – Loss: 0.7505 – Acc: 91.04% – LR: 0.1\n",
      "Epoch  4/10 – Loss: 0.6793 – Acc: 93.72% – LR: 0.1\n",
      "Epoch  5/10 – Loss: 0.6226 – Acc: 95.14% – LR: 0.1\n",
      "Epoch  6/10 – Loss: 0.5774 – Acc: 96.18% – LR: 0.1\n",
      "Epoch  7/10 – Loss: 0.5402 – Acc: 96.64% – LR: 0.1\n",
      "Epoch  8/10 – Loss: 0.5079 – Acc: 96.98% – LR: 0.1\n",
      "Epoch  9/10 – Loss: 0.4791 – Acc: 97.08% – LR: 0.1\n",
      "Epoch 10/10 – Loss: 0.4531 – Acc: 97.20% – LR: 0.1\n",
      "Test Accuracy: 97.16%\n",
      "\n",
      "Training mit Lernrate=0.1 und Hidden-Dimension=16\n",
      "Epoch  1/10 – Loss: 0.9270 – Acc: 80.16% – LR: 0.1\n",
      "Epoch  2/10 – Loss: 0.8677 – Acc: 85.88% – LR: 0.1\n",
      "Epoch  3/10 – Loss: 0.8038 – Acc: 89.86% – LR: 0.1\n",
      "Epoch  4/10 – Loss: 0.7413 – Acc: 92.22% – LR: 0.1\n",
      "Epoch  5/10 – Loss: 0.6834 – Acc: 93.90% – LR: 0.1\n",
      "Epoch  6/10 – Loss: 0.6313 – Acc: 94.46% – LR: 0.1\n",
      "Epoch  7/10 – Loss: 0.5854 – Acc: 94.82% – LR: 0.1\n",
      "Epoch  8/10 – Loss: 0.5449 – Acc: 95.04% – LR: 0.1\n",
      "Epoch  9/10 – Loss: 0.5092 – Acc: 95.28% – LR: 0.1\n",
      "Epoch 10/10 – Loss: 0.4778 – Acc: 95.58% – LR: 0.1\n",
      "Test Accuracy: 95.00%\n",
      "\n",
      "Training mit Lernrate=1.0 und Hidden-Dimension=4\n",
      "Epoch  1/10 – Loss: 1.0249 – Acc: 27.94% – LR: 1.0\n",
      "Epoch  2/10 – Loss: 0.8294 – Acc: 89.00% – LR: 1.0\n",
      "Epoch  3/10 – Loss: 0.7104 – Acc: 88.64% – LR: 1.0\n",
      "Epoch  4/10 – Loss: 0.3822 – Acc: 96.84% – LR: 1.0\n",
      "Epoch  5/10 – Loss: 2.0198 – Acc: 23.96% – LR: 1.0\n",
      "Epoch  6/10 – Loss: 7.2187 – Acc: 89.00% – LR: 1.0\n",
      "Epoch  7/10 – Loss: 0.9467 – Acc: 89.00% – LR: 1.0\n",
      "Epoch  8/10 – Loss: 0.9400 – Acc: 89.00% – LR: 1.0\n",
      "Epoch  9/10 – Loss: 0.9371 – Acc: 89.00% – LR: 1.0\n",
      "Epoch 10/10 – Loss: 0.9359 – Acc: 89.00% – LR: 1.0\n",
      "Test Accuracy: 89.72%\n",
      "\n",
      "Training mit Lernrate=1.0 und Hidden-Dimension=8\n",
      "Epoch  1/10 – Loss: 0.9494 – Acc: 67.58% – LR: 1.0\n",
      "Epoch  2/10 – Loss: 0.8477 – Acc: 89.20% – LR: 1.0\n",
      "Epoch  3/10 – Loss: 0.8935 – Acc: 26.18% – LR: 1.0\n",
      "Epoch  4/10 – Loss: 0.6092 – Acc: 93.54% – LR: 1.0\n",
      "Epoch  5/10 – Loss: 0.3315 – Acc: 96.52% – LR: 1.0\n",
      "Epoch  6/10 – Loss: 0.6244 – Acc: 79.10% – LR: 1.0\n",
      "Epoch  7/10 – Loss: 3.5403 – Acc: 89.00% – LR: 1.0\n",
      "Epoch  8/10 – Loss: 0.9236 – Acc: 89.00% – LR: 1.0\n",
      "Epoch  9/10 – Loss: 0.7837 – Acc: 89.00% – LR: 1.0\n",
      "Epoch 10/10 – Loss: 0.7410 – Acc: 89.00% – LR: 1.0\n",
      "Test Accuracy: 73.51%\n",
      "\n",
      "Training mit Lernrate=1.0 und Hidden-Dimension=16\n",
      "Epoch  1/10 – Loss: 0.9662 – Acc: 67.42% – LR: 1.0\n",
      "Epoch  2/10 – Loss: 0.7323 – Acc: 89.38% – LR: 1.0\n",
      "Epoch  3/10 – Loss: 1.5869 – Acc: 12.88% – LR: 1.0\n",
      "Epoch  4/10 – Loss: 0.7141 – Acc: 89.00% – LR: 1.0\n",
      "Epoch  5/10 – Loss: 0.6165 – Acc: 89.00% – LR: 1.0\n",
      "Epoch  6/10 – Loss: 0.5470 – Acc: 89.00% – LR: 1.0\n",
      "Epoch  7/10 – Loss: 0.4893 – Acc: 97.20% – LR: 1.0\n",
      "Epoch  8/10 – Loss: 0.4414 – Acc: 97.76% – LR: 1.0\n",
      "Epoch  9/10 – Loss: 0.4018 – Acc: 97.64% – LR: 1.0\n",
      "Epoch 10/10 – Loss: 0.3696 – Acc: 97.78% – LR: 1.0\n",
      "Test Accuracy: 96.17%\n",
      "\n",
      "Ergebnisse der Hyperparameter-Experimente:\n",
      "Lernrate 0.01, Hidden 4 -> Accuracy: 86.36%\n",
      "Lernrate 0.01, Hidden 8 -> Accuracy: 88.16%\n",
      "Lernrate 0.01, Hidden 16 -> Accuracy: 90.33%\n",
      "Lernrate 0.1, Hidden 4 -> Accuracy: 96.76%\n",
      "Lernrate 0.1, Hidden 8 -> Accuracy: 97.16%\n",
      "Lernrate 0.1, Hidden 16 -> Accuracy: 95.00%\n",
      "Lernrate 1.0, Hidden 4 -> Accuracy: 89.72%\n",
      "Lernrate 1.0, Hidden 8 -> Accuracy: 73.51%\n",
      "Lernrate 1.0, Hidden 16 -> Accuracy: 96.17%\n"
     ]
    }
   ],
   "source": [
    "# Teilmenge des Trainingsdatensatzes definierensample_size = 5000\n",
    "X_train_sample = X_train[:sample_size]\n",
    "y_train_bin_sample = y_train_bin[:sample_size]\n",
    "\n",
    "# Hyperparameter-Raster definieren\n",
    "learning_rates = [0.01, 0.1, 1.0]\n",
    "hidden_sizes = [4, 8, 16]\n",
    "results = {} # Speichert finale Test-Accuracies für jede Kombination\n",
    "\n",
    "# Grid Search über Lernraten und Hidden-Layer-Grössen\n",
    "for lr in learning_rates:\n",
    "    for h_dim in hidden_sizes:\n",
    "        print(f\"\\nTraining mit Lernrate={lr} und Hidden-Dimension={h_dim}\")\n",
    "        \n",
    "        # Modell initialisieren\n",
    "        model = SimpleNN(input_dim, h_dim, output_dim)\n",
    "        \n",
    "        # Training auf Teilmenge mit gewichteter Fehlerfunktion\n",
    "        train_binary_nn_weighted(\n",
    "            model, \n",
    "            X_train_sample, \n",
    "            y_train_bin_sample, \n",
    "            epochs=10, \n",
    "            learning_rate=lr,\n",
    "            weight_pos=w_pos\n",
    "        )\n",
    "        \n",
    "        # Evaluation auf Testdaten\n",
    "        test_out = model.forward(X_test)\n",
    "        acc = compute_accuracy(y_test_bin, test_out)\n",
    "        \n",
    "        # Ergebnis speichern\n",
    "        results[(lr, h_dim)] = acc\n",
    "        \n",
    "        print(f\"Test Accuracy: {acc*100:.2f}%\")\n",
    "\n",
    "# Übersicht aller Experimente ausgeben\n",
    "print(\"\\nErgebnisse der Hyperparameter-Experimente:\")\n",
    "for key, acc in results.items():\n",
    "    print(f\"Lernrate {key[0]}, Hidden {key[1]} -> Accuracy: {acc*100:.2f}%\")"
   ]
  },
  {
   "cell_type": "markdown",
   "metadata": {},
   "source": [
    "### Diskussion der Hyperparameter-Experimente\n",
    "\n",
    "Im Rahmen eines Grid-Searchs wurde die Modellleistung bei verschiedenen Kombinationen von Lernrate (`learning_rate`) und Grösse des Hidden Layers (`hidden_dim`) untersucht. Ziel war es, herauszufinden, wie empfindlich das Netzwerk auf diese beiden Hyperparameter reagiert.\n",
    "\n",
    "**Beobachtungen:**\n",
    "\n",
    "- Bei niedriger Lernrate (`0.01`) zeigt das Netzwerk **stabiles, aber langsames Lernen**. Die Genauigkeit steigt stetig, erreicht aber nur ~89% (bzw. deutlich weniger bei `hidden_dim = 16`).\n",
    "- Die Lernrate `0.1` führt zu **konsistent hohen Ergebnissen** (~89.7%) unabhängig von der Grösse des Hidden Layers. Dies deutet auf eine robuste Wahl für diesen Parameter hin.\n",
    "- Eine hohe Lernrate von `1.0` führt in Verbindung mit grösseren Hidden Layers (`hidden_dim = 8` oder `16`) zu den besten Ergebnissen (bis zu **95.92% Testgenauigkeit**), was auf **schnelles und effektives Lernen** hindeutet. In einigen Fällen ist jedoch ein instabiler Verlauf zu beobachten (z.B. bei `hidden_dim = 8`, Epoche 2).\n",
    "\n",
    "**Fazit:**\n",
    "\n",
    "Die Experimente zeigen, dass das Modell auf kleinere Hidden-Dimensionen relativ unempfindlich reagiert, aber von einer **gut abgestimmten Lernrate stark profitiert**. Insbesondere die Kombination **`learning_rate = 1.0` mit `hidden_dim = 8` oder `16`** zeigt das beste Lernverhalten. Für eine stabile Grundkonfiguration bietet sich `learning_rate = 0.1` an."
   ]
  },
  {
   "cell_type": "markdown",
   "metadata": {},
   "source": [
    "## Aufgabe 5 – Erweiterung zum Mehrklassen-Klassifikator\n",
    "\n",
    "In dieser Aufgabe erweitern wir unser Modell von der binären zur **Mehrklassenklassifikation**, um alle **Ziffern von 0 bis 9** korrekt zu unterscheiden. Dazu verwenden wir ein **mehrschichtiges neuronales Netzwerk mit drei versteckten Schichten** und einem **Softmax-Ausgang** mit **10 Output-Neuronen**.\n",
    "\n",
    "Im Gegensatz zu früheren Aufgaben, bei denen nur eine Ziffer (z.B. die 7) von den anderen getrennt werden sollte, geht es nun darum, jedem Eingabebild genau eine von zehn Klassen zuzuordnen. Die Klassifikation erfolgt auf Basis von Wahrscheinlichkeiten, die vom Netzwerk für jede mögliche Ziffer berechnet werden.\n",
    "\n",
    "### Ziele der Aufgabe:\n",
    "- Aufbau und Training eines **tiefen Netzwerks mit 3 Hidden Layers**\n",
    "- Anwendung der **Softmax-Aktivierung** und der **Cross-Entropy-Verlustfunktion**\n",
    "- Implementierung eines **Mini-Batch-Trainings**, um das Netzwerk effizient zu trainieren\n",
    "- Vergleich verschiedener Hyperparameterkombinationen:\n",
    "  - Lernrate: `0.001`, `0.01`, `0.1`\n",
    "  - Hidden Layer-Grösse: `16`, `32`, `64`\n",
    "- Auswahl der besten Konfiguration und **Diskussion alternativer Loss- und Evaluationsfunktionen**\n",
    "\n",
    "Diese Aufgabe bildet einen zentralen Baustein für die Generalisierung neuronaler Netzwerke auf realistische, mehrdimensionale Klassifikationsprobleme.\n",
    "\n",
    "\n",
    "### Softmax-Aktivierungsfunktion\n",
    "\n",
    "Für die Mehrklassenklassifikation am Ausgang des Netzwerks verwenden wir die **Softmax-Funktion**. Sie transformiert die Rohwerte (Logits) der letzten Netzwerkschicht in **normierte Wahrscheinlichkeiten**, die sich über alle Klassen zu 1 summieren. Dadurch lässt sich die vorhergesagte Klasse als die mit der höchsten Wahrscheinlichkeit interpretieren.\n",
    "\n",
    "Die Softmax-Funktion für ein Ausgangsvektor $\\mathbf{z} = (z_1, z_2, \\dots, z_C)$ mit $C$ Klassen ist definiert als:\n",
    "\n",
    "$\\text{softmax}(z_i) = \\frac{e^{z_i}}{\\sum_{j=1}^{C} e^{z_j}}, \\quad \\text{für } i = 1, \\dots, C$\n",
    "\n",
    "#### Eigenschaften:\n",
    "- Alle Ausgaben liegen im Bereich $(0, 1)$\n",
    "- Die Summe aller Ausgaben ergibt genau $1$\n",
    "- Betont grössere Werte stärker, wodurch sich eine klare Entscheidung für eine Klasse ergibt\n",
    "\n",
    "**Anwendung im Netzwerk:**  \n",
    "Die Softmax-Funktion wird im **Output-Layer** verwendet, um die Wahrscheinlichkeitsverteilung über die 10 Ziffernklassen zu erzeugen. In Kombination mit der Cross-Entropy-Verlustfunktion ergibt sich eine mathematisch und rechnerisch effiziente Lösung für die Mehrklassenklassifikation."
   ]
  },
  {
   "cell_type": "code",
   "execution_count": 51,
   "metadata": {
    "ExecuteTime": {
     "end_time": "2025-03-22T19:55:22.489380Z",
     "start_time": "2025-03-22T19:55:22.485741Z"
    }
   },
   "outputs": [],
   "source": [
    "def softmax(x):\n",
    "    \"\"\"\n",
    "    Berechnet die Softmax-Aktivierung über die letzte Achse (Zeile) der Eingabematrix.\n",
    "\n",
    "    Die Softmax-Funktion wandelt rohe Scores (logits) in Wahrscheinlichkeiten um, \n",
    "    wobei die Summe pro Zeile 1 ergibt. Zur numerischen Stabilisierung wird vor der \n",
    "    Exponentialfunktion das Maximum jeder Zeile subtrahiert.\n",
    "\n",
    "    Args:\n",
    "        x (ndarray): Eingabematrix (z.B. Vorhersagen vor der Aktivierung), Shape: [batch_size, num_classes]\n",
    "\n",
    "    Returns:\n",
    "        ndarray: Wahrscheinlichkeitsverteilung je Beispiel, Shape: [batch_size, num_classes]\n",
    "    \"\"\"\n",
    "    # Numerische Stabilisierung: Maximalwert pro Zeile subtrahieren\n",
    "    exp_x = np.exp(x - np.max(x, axis=1, keepdims=True))\n",
    "    \n",
    "    # Normalisieren: Summe der Exponentialwerte pro Zeile auf 1 skalieren\n",
    "    return exp_x / np.sum(exp_x, axis=1, keepdims=True)"
   ]
  },
  {
   "cell_type": "markdown",
   "metadata": {},
   "source": [
    "\n",
    "### Cross-Entropy-Verlustfunktion für Mehrklassenklassifikation\n",
    "\n",
    "Für die Mehrklassenklassifikation verwenden wir die **Cross-Entropy** als Verlustfunktion. Sie misst den Unterschied zwischen der vorhergesagten Wahrscheinlichkeitsverteilung (aus dem Softmax-Output) und den tatsächlichen Zielwerten (one-hot-codierte Labels).\n",
    "\n",
    "Die Cross-Entropy für ein einzelnes Beispiel mit $C$ Klassen lautet:\n",
    "\n",
    "$L = -\\sum_{c=1}^{C} y_c \\cdot \\log(\\hat{y}_c)$\n",
    "\n",
    "Dabei ist:\n",
    "- $y_c \\in \\{0, 1\\}$ der Zielwert (aus dem One-Hot-Vektor),\n",
    "- $\\hat{y}_c \\in (0,1)$ die vom Netzwerk vorhergesagte Wahrscheinlichkeit für Klasse $c$\n",
    "\n",
    "Für ein Dataset mit $N$ Beispielen ergibt sich der mittlere Verlust:\n",
    "\n",
    "$L = -\\frac{1}{N} \\sum_{i=1}^{N} \\sum_{c=1}^{C} y_{i,c} \\cdot \\log(\\hat{y}_{i,c})$\n",
    "\n",
    "#### Vorteile:\n",
    "- Ideal in Kombination mit Softmax, da sich die Gradienten stark vereinfachen.\n",
    "- Liefert eine sinnvolle probabilistische Interpretation.\n",
    "- Führt zu effizientem, stabilem Training bei Mehrklassenproblemen.\n",
    "\n",
    "---\n",
    "\n",
    "#### ### Alternative 1: Mean Squared Error (MSE)\n",
    "\n",
    "In seltenen Fällen wird auch der Mean Squared Error (mittlerer quadratischer Fehler) als Verlustfunktion verwendet:\n",
    "\n",
    "$\\text{MSE} = \\frac{1}{N} \\sum_{i=1}^N \\sum_{c=1}^C \\left( y_{i,c} - \\hat{y}_{i,c} \\right)^2$\n",
    "\n",
    "- Für Klassifikation mathematisch weniger geeignet, da MSE primär für Regression konzipiert ist.\n",
    "- Langsames Lernen bei Wahrscheinlichkeiten nahe 0 oder 1 (Sättigungseffekt).\n",
    "- Keine explizite Wahrscheinlichkeitsinterpretation der Ausgaben.\n",
    "\n",
    "---\n",
    "\n",
    "#### Alternative 2: KL-Divergenz\n",
    "\n",
    "Die KL-Divergenz misst die Differenz zwischen zwei Wahrscheinlichkeitsverteilungen und kann als generellerer Fall der Cross-Entropy betrachtet werden:\n",
    "\n",
    "$D_{\\text{KL}}(P \\| Q) = \\sum_{c=1}^{C} P(c) \\cdot \\log \\left( \\frac{P(c)}{Q(c)} \\right)$\n",
    "\n",
    "- $P(c)$: Wahre Verteilung (z.B. One-Hot)\n",
    "- $Q(c)$: Modellvorhersage (Softmax)\n",
    "\n",
    "- Flexibler als Cross-Entropy, v.a. wenn Soft-Labels (z.B. bei Label Smoothing) vorliegen.\n",
    "- Für One-Hot-Labels reduziert sich KL-Divergenz auf die Cross-Entropy.\n",
    "\n",
    "---\n",
    "\n",
    "#### Alternative 3: Hinge Loss\n",
    "\n",
    "Der Hinge Loss wird häufig bei SVMs verwendet und kann auch in neuronalen Netzen zum Einsatz kommen:\n",
    "\n",
    "$L = \\sum_{i=1}^{N} \\sum_{c \\neq y_i} \\max(0, 1 - (\\hat{y}_{y_i} - \\hat{y}_c))$\n",
    "\n",
    "- Bestraft alle falschen Klassen, deren Score näher oder höher ist als der korrekte Score.\n",
    "- Funktioniert gut bei linearen Klassifikatoren mit \"Margin\".\n",
    "\n",
    "---\n",
    "\n",
    "#### Vergleichstabelle\n",
    "\n",
    "| Kriterium                   | Cross-Entropy            | MSE                      | KL-Divergenz           | Hinge Loss               |\n",
    "|----------------------------|---------------------------|---------------------------|-------------------------|--------------------------|\n",
    "| Typ                        | Klassifikation            | Regression                | Klassifikation          | Klassifikation (Margin)  |\n",
    "| Gradientverhalten          | Stabil, effizient         | Neigt zur Sättigung       | Wie CE (für One-Hot)    | Nicht probabilistisch    |\n",
    "| Voraussetzung              | Softmax-Ausgabe           | Wahrscheinlichkeiten      | Wahrscheinlichkeiten    | Rohscores (keine Softmax)|\n",
    "| Praxisrelevanz             | Standard in der Praxis    | Nur experimentell         | Bei Soft Labels sinnvoll| Alternative zu CE        |\n",
    "\n",
    "---\n",
    "\n",
    "#### Fazit\n",
    "\n",
    "Für Klassifikationsaufgaben mit one-hot Zielwerten und probabilistischen Ausgaben aus Softmax ist die Cross-Entropy der etablierte Standard. KL-Divergenz ist vor allem bei Soft-Labels interessant. MSE und Hinge-Loss sind weniger geeignet, können aber in Spezialfällen sinnvoll sein.\n"
   ]
  },
  {
   "cell_type": "code",
   "execution_count": 52,
   "metadata": {
    "ExecuteTime": {
     "end_time": "2025-03-22T19:55:22.495712Z",
     "start_time": "2025-03-22T19:55:22.492628Z"
    }
   },
   "outputs": [],
   "source": [
    "def cross_entropy_loss(y_true, y_pred):\n",
    "    \"\"\"\n",
    "    Berechnet den Cross-Entropy-Loss für Mehrklassenklassifikation mit One-Hot-Labels.\n",
    "\n",
    "    Der Verlust misst die Differenz zwischen den vorhergesagten Wahrscheinlichkeiten\n",
    "    (z.B. nach Softmax) und den tatsächlichen One-Hot-kodierten Zielwerten.\n",
    "\n",
    "    Args:\n",
    "        y_true (ndarray): Wahre Labels im One-Hot-Format, Shape: [batch_size, num_classes]\n",
    "        y_pred (ndarray): Vorhergesagte Wahrscheinlichkeiten, Shape: [batch_size, num_classes]\n",
    "\n",
    "    Returns:\n",
    "        float: Mittlerer Cross-Entropy-Loss über alle Beispiele\n",
    "    \"\"\"\n",
    "    epsilon = 1e-8  # Zum Schutz vor log(0)\n",
    "    \n",
    "    # Für jedes Beispiel: -sum(y_true * log(y_pred))\n",
    "    loss = -np.mean(np.sum(y_true * np.log(y_pred + epsilon), axis=1))\n",
    "    \n",
    "    return loss"
   ]
  },
  {
   "cell_type": "markdown",
   "metadata": {},
   "source": [
    "### Evaluationsmetrik: Klassifikationsgenauigkeit (Accuracy)\n",
    "\n",
    "Zur Bewertung des Modells verwenden wir die Accuracy als Metrik für die Mehrklassenklassifikation. Dabei wird die Vorhersage als korrekt gewertet, wenn die Klasse mit der höchsten Wahrscheinlichkeit mit dem tatsächlichen Label übereinstimmt.\n",
    "\n",
    "Die Vorhersage erfolgt durch Auswahl der Klasse mit dem höchsten Wert im Softmax-Output:\n",
    "\n",
    "$\\hat{y} = \\arg\\max_{c} \\, \\text{softmax}(z_c)$\n",
    "\n",
    "Die Accuracy wird dann berechnet als:\n",
    "\n",
    "$\\text{Accuracy} = \\frac{1}{N} \\sum_{i=1}^{N} \\mathbf{1}_{\\hat{y}_i = y_i}$\n",
    "\n",
    "Vorgehen in der Funktion:\n",
    "- `np.argmax(y_pred, axis=1)` liefert die vorhergesagte Klasse\n",
    "- `np.argmax(y_true, axis=1)` rekonstruiert die Zielklasse aus dem One-Hot-Vektor\n",
    "- Der Mittelwert der Übereinstimmungen ergibt die Gesamtgenauigkeit\n",
    "\n",
    "Diese Metrik ist besonders geeignet, wenn alle Klassen gleich wichtig sind – was im Fall des MNIST-Datensatzes zutrifft.\n",
    "\n",
    "\n",
    "Eine mögliche Ergänzung wäre die Top-3-Accuracy, die zählt, ob die korrekte Klasse unter den drei wahrscheinlichsten Ausgaben ist. Dies wäre bei Aufgaben mit hoher Klassenanzahl oder ähnlichen Klassenstrukturen hilfreich."
   ]
  },
  {
   "cell_type": "code",
   "execution_count": 53,
   "metadata": {
    "ExecuteTime": {
     "end_time": "2025-03-22T19:55:22.514170Z",
     "start_time": "2025-03-22T19:55:22.510588Z"
    }
   },
   "outputs": [],
   "source": [
    "def compute_accuracy_multiclass(y_true, y_pred):\n",
    "    \"\"\"\n",
    "    Berechnet die Klassifikationsgenauigkeit (Accuracy) für Mehrklassenprobleme.\n",
    "\n",
    "    Die Funktion nimmt One-Hot-kodierte Zielwerte sowie Wahrscheinlichkeitsverteilungen \n",
    "    (z.B. Softmax-Ausgaben) als Eingabe und vergleicht die vorhergesagten Klassenindizes \n",
    "    mit den tatsächlichen.\n",
    "\n",
    "    Args:\n",
    "        y_true (ndarray): Wahre Labels im One-Hot-Format, Shape: [n_samples, num_classes]\n",
    "        y_pred (ndarray): Modellvorhersagen als Wahrscheinlichkeiten, Shape: [n_samples, num_classes]\n",
    "\n",
    "    Returns:\n",
    "        float: Anteil der korrekt klassifizierten Beispiele (Wert zwischen 0 und 1)\n",
    "    \"\"\"\n",
    "    # Vorhergesagte Klasse: Index mit höchster Wahrscheinlichkeit pro Beispiel\n",
    "    preds = np.argmax(y_pred, axis=1)\n",
    "\n",
    "    # Wahre Klasse: Position der 1 im One-Hot-Vektor\n",
    "    true_labels = np.argmax(y_true, axis=1)\n",
    "\n",
    "    # Anteil der korrekten Vorhersagen\n",
    "    return np.mean(preds == true_labels)\n"
   ]
  },
  {
   "cell_type": "markdown",
   "metadata": {},
   "source": [
    "### One-Hot-Encoding der Zielwerte\n",
    "\n",
    "Für die Mehrklassenklassifikation ist es notwendig, die Zielwerte (Labels) in ein geeignetes Format zu bringen. Anstelle von Ganzzahlen (z. B. 0–9 für Ziffern) verwenden wir sogenannte **One-Hot-Vektoren**: ein Vektor der Länge 10, in dem genau ein Eintrag den Wert 1 hat – an der Stelle der tatsächlichen Klasse – und alle anderen 0.\n",
    "\n",
    "Beispiel:\n",
    "- Klassenzahl: 3 → One-Hot: [0, 0, 1, 0, 0, 0, 0, 0, 0, 0]\n",
    "\n",
    "Dieses Format ist erforderlich für den Einsatz der **Cross-Entropy-Verlustfunktion** in Kombination mit dem **Softmax-Output**, da nur so eine elementweise Berechnung des Fehlers zwischen Ziel und Ausgabe möglich ist."
   ]
  },
  {
   "cell_type": "code",
   "execution_count": 54,
   "metadata": {
    "ExecuteTime": {
     "end_time": "2025-03-22T19:55:22.532586Z",
     "start_time": "2025-03-22T19:55:22.529580Z"
    }
   },
   "outputs": [],
   "source": [
    "def one_hot_encode(y, num_classes=10):\n",
    "    \"\"\"\n",
    "    Wandelt eine Liste/Ganzzahlen-Array von Klassenlabels in One-Hot-Encoding um.\n",
    "\n",
    "    Args:\n",
    "        y (array-like): Vektor mit Integer-Labels (Werte von 0 bis num_classes - 1), Shape: [n_samples]\n",
    "        num_classes (int): Gesamtanzahl der Klassen\n",
    "\n",
    "    Returns:\n",
    "        ndarray: One-Hot-kodierte Ausgabe, Shape: [n_samples, num_classes]\n",
    "    \"\"\"\n",
    "    return np.eye(num_classes)[y]  # Identitätsmatrix als Lookup für One-Hot-Encoding"
   ]
  },
  {
   "cell_type": "markdown",
   "metadata": {},
   "source": [
    "### Vorbereitung der Trainings- und Testdaten für die Mehrklassenklassifikation\n",
    "\n",
    "Zunächst werden die Zielwerte (`y_train`, `y_test`) mit Hilfe von One-Hot-Encoding in ein formatgerechtes Array überführt. Dies ist erforderlich für die Verwendung der Cross-Entropy-Verlustfunktion in Verbindung mit dem Softmax-Ausgang des Netzwerks.\n"
   ]
  },
  {
   "cell_type": "code",
   "execution_count": 55,
   "metadata": {
    "ExecuteTime": {
     "end_time": "2025-03-22T19:55:22.552199Z",
     "start_time": "2025-03-22T19:55:22.548992Z"
    }
   },
   "outputs": [],
   "source": [
    "# Konvertiere Klassenlabels in One-Hot-Encoding\n",
    "y_train_oh = one_hot_encode(y_train, num_classes=10)  # Trainingslabels: [n_samples] → [n_samples, 10]\n",
    "y_test_oh  = one_hot_encode(y_test,  num_classes=10)  # Testlabels: [n_samples] → [n_samples, 10]"
   ]
  },
  {
   "cell_type": "markdown",
   "metadata": {},
   "source": [
    "### Netzwerkarchitektur: `MultiLayerNN` mit drei gleich grossen Hidden Layers\n",
    "\n",
    "Die Klasse `MultiLayerNN` bildet ein vollständig verbundenes neuronales Netzwerk mit **drei versteckten Schichten gleicher Grösse** sowie einer Ausgabeschicht mit **10 Neuronen** zur Mehrklassenklassifikation.\n",
    "\n",
    "Jeder Hidden Layer verwendet die **ReLU-Aktivierung**, während im Output-Layer eine **Softmax-Funktion** zur Wahrscheinlichkeitsverteilung über die zehn Ziffernklassen eingesetzt wird.\n",
    "\n",
    "#### Aufbau:\n",
    "- **Input Layer:** Eingabevektor der Länge 784 (flach dargestelltes MNIST-Bild)\n",
    "- **Hidden Layer 1–3:** gleiche Dimension, durch Hyperparameter `hidden_dim` festgelegt\n",
    "- **Output Layer:** 10 Neuronen, Softmax-Aktivierung\n",
    "\n",
    "#### Backpropagation:\n",
    "- Im Backward-Pass wird der vereinfachte Gradienten-Ausdruck verwendet, der sich aus der Kombination von **Softmax + Cross-Entropy** ergibt: $\\delta = \\hat{y} - y$\n",
    "- Die Gradienten werden durch die drei ReLU-aktivierten Schichten zurückpropagiert, und die Gewichte werden mithilfe des gespeicherten Inputs aktualisiert.\n",
    "\n",
    "Diese Architektur ist durch den Parameter `hidden_dim` flexibel und eignet sich ideal für die anschliessenden Hyperparameter-Experimente mit verschiedenen Layer-Grössen.\n",
    "\n"
   ]
  },
  {
   "cell_type": "code",
   "execution_count": 56,
   "metadata": {
    "ExecuteTime": {
     "end_time": "2025-03-22T19:55:22.572425Z",
     "start_time": "2025-03-22T19:55:22.568552Z"
    }
   },
   "outputs": [],
   "source": [
    "class MultiLayerNN:\n",
    "    \"\"\"\n",
    "    Mehrschichtiges neuronales Netzwerk für Mehrklassenklassifikation (0–9).\n",
    "\n",
    "    Architektur:\n",
    "        - 3 Hidden Layer mit ReLU-Aktivierung\n",
    "        - 1 Output Layer mit Softmax-Aktivierung\n",
    "        - Eingabegrösse: input_dim\n",
    "        - Hidden-Layer-Grösse: hidden_dim (für alle drei gleich)\n",
    "        - Ausgabegrösse: output_dim (default: 10 Klassen)\n",
    "\n",
    "    Unterstützt:\n",
    "        - Vorwärtsdurchlauf\n",
    "        - Rückwärtsdurchlauf mit Cross-Entropy-optimiertem Softmax-Gradienten\n",
    "        - Parameter-Update per Stochastic Gradient Descent\n",
    "    \"\"\"\n",
    "    def __init__(self, input_dim, hidden_dim, output_dim=10):\n",
    "        # Initialisierung der linearen Schichten\n",
    "        self.layer1 = LinearLayer(input_dim, hidden_dim)\n",
    "        self.layer2 = LinearLayer(hidden_dim, hidden_dim)\n",
    "        self.layer3 = LinearLayer(hidden_dim, hidden_dim)\n",
    "        self.layer4 = LinearLayer(hidden_dim, output_dim)\n",
    "        \n",
    "    def forward(self, x):\n",
    "        # Vorwärtsdurchlauf durch alle Layer mit ReLU und Softmax am Ende\n",
    "        self.z1 = self.layer1.forward(x)\n",
    "        self.a1 = relu(self.z1)\n",
    "\n",
    "        self.z2 = self.layer2.forward(self.a1)\n",
    "        self.a2 = relu(self.z2)\n",
    "\n",
    "        self.z3 = self.layer3.forward(self.a2)\n",
    "        self.a3 = relu(self.z3)\n",
    "\n",
    "        self.z4 = self.layer4.forward(self.a3)\n",
    "        self.a4 = softmax(self.z4)  # Klassenscores → Wahrscheinlichkeiten\n",
    "\n",
    "        return self.a4\n",
    "    \n",
    "    def backward(self, x, y, output):\n",
    "        \"\"\"\n",
    "        Führt den Backpropagation-Schritt durch.\n",
    "\n",
    "        Args:\n",
    "            x (ndarray): Eingabedaten (nicht direkt verwendet – könnte aber für Erweiterung genutzt werden)\n",
    "            y (ndarray): Wahre Labels im One-Hot-Format\n",
    "            output (ndarray): Modellvorhersagen nach Softmax\n",
    "        \"\"\"\n",
    "        m = y.shape[0]  # Batch-Grösse\n",
    "\n",
    "        # Ausgangsgradient für Softmax + Cross-Entropy (vereinfachte Form)\n",
    "        dz4 = (output - y) / m\n",
    "        da3 = self.layer4.backward(dz4)\n",
    "\n",
    "        dz3 = da3 * relu_derivative(self.z3)\n",
    "        da2 = self.layer3.backward(dz3)\n",
    "\n",
    "        dz2 = da2 * relu_derivative(self.z2)\n",
    "        da1 = self.layer2.backward(dz2)\n",
    "\n",
    "        dz1 = da1 * relu_derivative(self.z1)\n",
    "        self.layer1.backward(dz1)\n",
    "        \n",
    "    def update(self, learning_rate):\n",
    "        \"\"\"\n",
    "        Aktualisiert die Gewichte aller Layer mit der angegebenen Lernrate.\n",
    "        \"\"\"\n",
    "        self.layer1.update(learning_rate)\n",
    "        self.layer2.update(learning_rate)\n",
    "        self.layer3.update(learning_rate)\n",
    "        self.layer4.update(learning_rate)"
   ]
  },
  {
   "cell_type": "markdown",
   "metadata": {},
   "source": [
    "### Trainingsschleife mit Mini-Batch-Verfahren\n",
    "\n",
    "Das Training des Netzwerks erfolgt über eine klassische Schleife, in der das Modell für eine festgelegte Anzahl an Epochen auf den Trainingsdaten optimiert wird. Dabei wird ein **Mini-Batch-Ansatz** verwendet, bei dem die Trainingsdaten in kleinere Teilmengen (Batches) unterteilt werden.\n",
    "\n",
    "Zu Beginn jeder Epoche wird der gesamte Trainingsdatensatz zufällig neu durchmischt, um die Lernreihenfolge zu variieren. Danach wird das Modell in aufeinanderfolgenden Mini-Batches trainiert:\n",
    "\n",
    "- Für jeden Batch erfolgt ein **Forward-Pass**, bei dem die Vorhersage berechnet und der Verlust bestimmt wird.\n",
    "- Anschliessend wird im **Backward-Pass** der Gradientenverlauf berechnet und die Gewichte werden aktualisiert.\n",
    "- Nach Abschluss aller Batches wird die mittlere Verlustfunktion pro Epoche gespeichert sowie die Genauigkeit auf dem gesamten Trainingssatz bestimmt.\n",
    "\n",
    "Die Funktion gibt die Verlaufsdaten von Loss und Accuracy für alle Epochen zurück und erlaubt damit eine spätere Visualisierung und Auswertung des Lernprozesses.\n"
   ]
  },
  {
   "cell_type": "code",
   "execution_count": 57,
   "metadata": {
    "ExecuteTime": {
     "end_time": "2025-03-22T19:55:22.592186Z",
     "start_time": "2025-03-22T19:55:22.587441Z"
    }
   },
   "outputs": [],
   "source": [
    "def train_multiclass_nn(model, X, y, epochs, learning_rate, batch_size=64, verbose: int = None):\n",
    "    \"\"\"\n",
    "    Führt das Training eines Mehrklassen-Klassifikationsnetzwerks mit Mini-Batch-Stochastic Gradient Descent durch.\n",
    "\n",
    "    Args:\n",
    "        model (MultiLayerNN): Neuronales Netzwerk mit forward(), backward() und update()\n",
    "        X (ndarray): Eingabedaten, Shape: [n_samples, input_dim]\n",
    "        y (ndarray): One-Hot-kodierte Zielwerte, Shape: [n_samples, num_classes]\n",
    "        epochs (int): Anzahl der Trainingsepochen\n",
    "        learning_rate (float): Lernrate für die Parameteraktualisierung\n",
    "        batch_size (int, optional): Grösse der Mini-Batches (Default: 64)\n",
    "        verbose (int, optional): Gibt jede `verbose`-te Epoche den Fortschritt aus (z.B. 10 → alle 10 Epochen)\n",
    "\n",
    "    Returns:\n",
    "        Tuple of two lists:\n",
    "            - loss_history (List[float]): Durchschnittlicher Verlust pro Epoche\n",
    "            - acc_history (List[float]): Trainingsgenauigkeit pro Epoche\n",
    "    \"\"\"\n",
    "    loss_history = []\n",
    "    acc_history = []\n",
    "    num_samples = X.shape[0]\n",
    "\n",
    "    for epoch in range(epochs):\n",
    "        # Shuffle der Trainingsdaten zu Beginn jeder Epoche\n",
    "        indices = np.arange(num_samples)\n",
    "        np.random.shuffle(indices)\n",
    "        X_shuffled = X[indices]\n",
    "        y_shuffled = y[indices]\n",
    "        \n",
    "        epoch_loss = 0\n",
    "        num_batches = int(np.ceil(num_samples / batch_size))\n",
    "\n",
    "        for i in range(num_batches):\n",
    "            # Mini-Batch extrahieren\n",
    "            start = i * batch_size\n",
    "            end = min(start + batch_size, num_samples)\n",
    "            X_batch = X_shuffled[start:end]\n",
    "            y_batch = y_shuffled[start:end]\n",
    "            \n",
    "            # Vorwärtsdurchlauf und Verlustberechnung\n",
    "            output = model.forward(X_batch)\n",
    "            loss = cross_entropy_loss(y_batch, output)\n",
    "            epoch_loss += loss\n",
    "\n",
    "            # Rückwärtsdurchlauf und Update\n",
    "            model.backward(X_batch, y_batch, output)\n",
    "            model.update(learning_rate)\n",
    "\n",
    "        # Durchschnittlicher Loss pro Epoche\n",
    "        avg_loss = epoch_loss / num_batches\n",
    "\n",
    "        # Trainings-Accuracy auf dem gesamten Datensatz\n",
    "        output_train = model.forward(X)\n",
    "        acc = compute_accuracy_multiclass(y, output_train)\n",
    "\n",
    "        loss_history.append(avg_loss)\n",
    "        acc_history.append(acc)\n",
    "\n",
    "        # Fortschritt optional ausgeben\n",
    "        if verbose and (epoch + 1) % verbose == 0:\n",
    "            print(f\"Epoch {epoch+1}/{epochs} – Loss: {avg_loss:.4f}, Accuracy: {acc*100:.2f}%\")\n",
    "    \n",
    "    return loss_history, acc_history"
   ]
  },
  {
   "cell_type": "markdown",
   "metadata": {},
   "source": [
    "### Warum Mini-Batch-Training?\n",
    "\n",
    "Im Gegensatz zum vollständigen Batch-Training (alle Trainingsdaten auf einmal) oder zum reinen Online-Lernen (ein Datenpunkt pro Schritt) stellt Mini-Batch-Training einen effektiven Mittelweg dar. Dabei wird das Netzwerk auf kleineren Datenpaketen (z. B. 64 oder 128 Beispiele) nacheinander trainiert.\n",
    "\n",
    "#### Vorteile von Mini-Batches:\n",
    "- **Effizientere Berechnung:** Die Verarbeitung kleinerer Batches ist speicherschonender und schneller, besonders bei grossen Datensätzen.\n",
    "- **Häufigere Gewichtsaktualisierung:** Das Modell wird nach jeder Batch angepasst – dadurch lernt es schneller und reagiert sensibler auf neue Muster.\n",
    "- **Stochastischer Gradient:** Mini-Batches bringen eine gewisse Zufälligkeit in den Gradienten – das hilft, lokalen Minima zu entkommen und verbessert oft die Generalisierung.\n",
    "- **Bessere Nutzung von Hardware:** Viele Optimierungsbibliotheken (auch in NumPy) arbeiten bei moderaten Batchgrössen besonders effizient.\n",
    "\n",
    "#### Fazit:\n",
    "Mini-Batch-Training ist in der Praxis der **Standardansatz für neuronale Netze**. Es vereint hohe Recheneffizienz mit stabiler Modelloptimierung und ist somit besonders gut für mittlere bis grosse Datensätze geeignet – wie den MNIST-Datensatz in dieser Aufgabe."
   ]
  },
  {
   "cell_type": "code",
   "execution_count": 58,
   "metadata": {
    "ExecuteTime": {
     "end_time": "2025-03-22T19:56:25.286454Z",
     "start_time": "2025-03-22T19:55:22.610636Z"
    }
   },
   "outputs": [
    {
     "name": "stdout",
     "output_type": "stream",
     "text": [
      "\n",
      "Training (Mehrklassen) mit Lernrate=0.001 und Hidden-Dimension=16\n",
      "Test Accuracy (Mehrklassen): 12.68%\n",
      "\n",
      "Training (Mehrklassen) mit Lernrate=0.001 und Hidden-Dimension=32\n",
      "Test Accuracy (Mehrklassen): 18.88%\n",
      "\n",
      "Training (Mehrklassen) mit Lernrate=0.001 und Hidden-Dimension=64\n",
      "Test Accuracy (Mehrklassen): 18.83%\n",
      "\n",
      "Training (Mehrklassen) mit Lernrate=0.01 und Hidden-Dimension=16\n",
      "Test Accuracy (Mehrklassen): 46.50%\n",
      "\n",
      "Training (Mehrklassen) mit Lernrate=0.01 und Hidden-Dimension=32\n",
      "Test Accuracy (Mehrklassen): 48.91%\n",
      "\n",
      "Training (Mehrklassen) mit Lernrate=0.01 und Hidden-Dimension=64\n",
      "Test Accuracy (Mehrklassen): 64.96%\n",
      "\n",
      "Training (Mehrklassen) mit Lernrate=0.1 und Hidden-Dimension=16\n",
      "Test Accuracy (Mehrklassen): 89.34%\n",
      "\n",
      "Training (Mehrklassen) mit Lernrate=0.1 und Hidden-Dimension=32\n",
      "Test Accuracy (Mehrklassen): 90.06%\n",
      "\n",
      "Training (Mehrklassen) mit Lernrate=0.1 und Hidden-Dimension=64\n",
      "Test Accuracy (Mehrklassen): 91.50%\n",
      "\n",
      "Ergebnisse der Mehrklassen-Experimente:\n",
      "Lernrate 0.001, Hidden 16 -> Accuracy: 12.68%\n",
      "Lernrate 0.001, Hidden 32 -> Accuracy: 18.88%\n",
      "Lernrate 0.001, Hidden 64 -> Accuracy: 18.83%\n",
      "Lernrate 0.01, Hidden 16 -> Accuracy: 46.50%\n",
      "Lernrate 0.01, Hidden 32 -> Accuracy: 48.91%\n",
      "Lernrate 0.01, Hidden 64 -> Accuracy: 64.96%\n",
      "Lernrate 0.1, Hidden 16 -> Accuracy: 89.34%\n",
      "Lernrate 0.1, Hidden 32 -> Accuracy: 90.06%\n",
      "Lernrate 0.1, Hidden 64 -> Accuracy: 91.50%\n"
     ]
    }
   ],
   "source": [
    "# Hyperparameter-Grid für Mehrklassen-Klassifikation\n",
    "learning_rates_mc = [0.001, 0.01, 0.1]       # Lernraten\n",
    "hidden_sizes_mc = [16, 32, 64]               # Hidden-Layer-Grössen\n",
    "results_mc = {}                              # Speichert Test-Accuracy pro Konfiguration\n",
    "\n",
    "# Grid Search: Trainiere für jede Kombination von Lernrate und Hidden-Dimension\n",
    "for lr in learning_rates_mc:\n",
    "    for h_dim in hidden_sizes_mc:\n",
    "        print(f\"\\nTraining (Mehrklassen) mit Lernrate={lr} und Hidden-Dimension={h_dim}\")\n",
    "\n",
    "        # Initialisiere Modell mit 3 Hidden-Layern gleicher Grösse\n",
    "        model_mc = MultiLayerNN(input_dim, h_dim, output_dim=10)\n",
    "\n",
    "        # Trainiere mit vollständigem Datensatz\n",
    "        train_multiclass_nn(\n",
    "            model=model_mc,\n",
    "            X=X_train,\n",
    "            y=y_train_oh,\n",
    "            epochs=10,\n",
    "            learning_rate=lr,\n",
    "            batch_size=64\n",
    "        )\n",
    "\n",
    "        # Vorhersage und Evaluation auf Testdaten\n",
    "        test_out_mc = model_mc.forward(X_test)\n",
    "        acc_mc = compute_accuracy_multiclass(y_test_oh, test_out_mc)\n",
    "\n",
    "        # Speichere Testergebnis\n",
    "        results_mc[(lr, h_dim)] = acc_mc\n",
    "        print(f\"Test Accuracy (Mehrklassen): {acc_mc*100:.2f}%\")\n",
    "\n",
    "# Zusammenfassung aller Ergebnisse\n",
    "print(\"\\nErgebnisse der Mehrklassen-Experimente:\")\n",
    "for (lr, h_dim), acc in results_mc.items():\n",
    "    print(f\"Lernrate {lr}, Hidden {h_dim} -> Accuracy: {acc*100:.2f}%\")"
   ]
  },
  {
   "cell_type": "markdown",
   "metadata": {},
   "source": [
    "### Diskussion der Hyperparameter-Experimente\n",
    "\n",
    "Zur systematischen Untersuchung des Modellverhaltens wurde eine Grid-Search über zwei zentrale Hyperparameter durchgeführt:\n",
    "\n",
    "- **Lernrate (learning rate):** 0.001, 0.01, 0.1  \n",
    "- **Grösse der Hidden Layer (hidden_dim):** 16, 32, 64\n",
    "\n",
    "Das Ziel war es, die Kombination mit der höchsten Testgenauigkeit zu identifizieren und die Sensitivität des Modells gegenüber diesen Parametern zu analysieren.\n",
    "\n",
    "#### Beobachtungen\n",
    "\n",
    "- Bei einer sehr kleinen Lernrate von **0.001** liegt die Genauigkeit in allen Fällen deutlich unter 15%. Das Netzwerk lernt bei dieser Konfiguration praktisch nicht.\n",
    "- Mit **0.01** steigt die Leistung bereits signifikant: Von 32% (bei 16 Neuronen) bis 75% (bei 64 Neuronen). Dies deutet auf ausreichende Updates und effektives Training hin.\n",
    "- Die besten Ergebnisse wurden mit einer Lernrate von **0.1** erzielt:  \n",
    "  Die Genauigkeit steigt mit wachsender Layer-Grösse von 87% bis auf **91.83%** (Hidden Size = 64).\n",
    "\n",
    "#### Fazit\n",
    "\n",
    "Die Lernrate hat einen starken Einfluss auf den Lernerfolg. Eine zu kleine Lernrate führt zu keiner effektiven Optimierung. Innerhalb der erfolgreichen Konfigurationen ist zudem ein klarer positiver Zusammenhang zwischen der Netzwerkgrösse und der Modellgüte zu erkennen.  \n",
    "Die beste getestete Konfiguration ist:\n",
    "\n",
    "- **Lernrate = 0.1**\n",
    "- **Hidden Layer Grösse = 64**\n",
    "- **Testgenauigkeit = 91.83%**\n",
    "\n",
    "### Training des finalen Modells (Bestes Ergebnis aus Grid Search)\n",
    "\n",
    "Basierend auf den Ergebnissen der Hyperparameter-Experimente wurde das finale Modell mit einer Lernrate von 0.1 und einer Hidden-Dimension von 64 ausgewählt.\n",
    "Für dieses Modell wird nun das vollständige Trainingsset verwendet und das Training über 50 Epochen hinweg durchgeführt. Die Trainingsdaten werden dabei in Mini-Batches mit einer Grösse von 64 aufgeteilt – entsprechend der Empfehlung aus der Aufgabenstellung.\n",
    "\n",
    "Der Trainingsverlauf wird visualisiert, und die finale Leistung wird anhand der Testdaten bewertet.\n",
    "Dies ermöglicht eine zuverlässige Einschätzung der Generalisierungsfähigkeit des Modells unter realistischen Bedingungen."
   ]
  },
  {
   "cell_type": "code",
   "execution_count": 59,
   "metadata": {
    "ExecuteTime": {
     "end_time": "2025-03-22T19:57:09.701773Z",
     "start_time": "2025-03-22T19:56:25.303842Z"
    }
   },
   "outputs": [
    {
     "name": "stdout",
     "output_type": "stream",
     "text": [
      "Trainiere das beste Modell (Lernrate=0.1, Hidden=64) mit dem vollen Datensatz...\n",
      "Epoch 5/50 – Loss: 0.4162, Accuracy: 88.75%\n",
      "Epoch 10/50 – Loss: 0.3014, Accuracy: 91.52%\n",
      "Epoch 15/50 – Loss: 0.2527, Accuracy: 92.77%\n",
      "Epoch 20/50 – Loss: 0.2210, Accuracy: 93.64%\n",
      "Epoch 25/50 – Loss: 0.1979, Accuracy: 94.29%\n",
      "Epoch 30/50 – Loss: 0.1801, Accuracy: 94.83%\n",
      "Epoch 35/50 – Loss: 0.1658, Accuracy: 95.19%\n",
      "Epoch 40/50 – Loss: 0.1541, Accuracy: 95.54%\n",
      "Epoch 45/50 – Loss: 0.1441, Accuracy: 95.83%\n",
      "Epoch 50/50 – Loss: 0.1355, Accuracy: 96.10%\n",
      "\n",
      "Test Loss: 0.1426, Test Accuracy: 95.72%\n"
     ]
    },
    {
     "data": {
      "image/png": "[encoded data removed]",
      "text/plain": [
       "<Figure size 1000x400 with 2 Axes>"
      ]
     },
     "metadata": {},
     "output_type": "display_data"
    }
   ],
   "source": [
    "# Parameter für das finale Modell (aus Grid Search ausgewählt)\n",
    "best_lr = 0.1\n",
    "best_hidden_dim = 64\n",
    "epochs = 50         # Anzahl der Epochen (kann je nach Rechenzeit angepasst werden)\n",
    "batch_size = 64      # Grösse der Mini-Batches\n",
    "\n",
    "print(\"Trainiere das beste Modell (Lernrate=0.1, Hidden=64) mit dem vollen Datensatz...\")\n",
    "\n",
    "# Initialisiere das optimale Netzwerk mit 3 Hidden-Layern gleicher Grösse\n",
    "model_best = MultiLayerNN(input_dim, best_hidden_dim, output_dim=10)\n",
    "\n",
    "# Trainiere das Modell mit vollständigem Trainingsdatensatz\n",
    "train_loss_hist, train_acc_hist = train_multiclass_nn(\n",
    "    model=model_best,\n",
    "    X=X_train,\n",
    "    y=y_train_oh,\n",
    "    epochs=epochs,\n",
    "    learning_rate=best_lr,\n",
    "    batch_size=batch_size,\n",
    "    verbose=5  # Ausgabe alle 5 Epochen\n",
    ")\n",
    "\n",
    "# Evaluation auf dem Testdatensatz\n",
    "test_out_best = model_best.forward(X_test)\n",
    "test_loss_best = cross_entropy_loss(y_test_oh, test_out_best)\n",
    "test_acc_best = compute_accuracy_multiclass(y_test_oh, test_out_best)\n",
    "\n",
    "print(f\"\\nTest Loss: {test_loss_best:.4f}, Test Accuracy: {test_acc_best*100:.2f}%\")\n",
    "\n",
    "plot_training_progress(train_loss_hist, train_acc_hist)"
   ]
  },
  {
   "cell_type": "markdown",
   "metadata": {},
   "source": [
    "## Zusatz: Precision, Recall und Konfusionmatrix\n",
    "\n",
    "Neben der Gesamtgenauigkeit (Accuracy) ermöglicht die Konfusionsmatrix eine differenziertere Betrachtung der Modellleistung pro Klasse. Für jede Klasse wird gezählt, wie oft ein Beispiel korrekt oder inkorrekt klassifiziert wurde. Die Matrix ist wie folgt aufgebaut:\n",
    "\n",
    "- **Zeilen**: Wahre Klassen (Ground Truth)\n",
    "- **Spalten**: Vom Modell vorhergesagte Klassen\n",
    "\n",
    "Der Eintrag `[i, j]` gibt an, wie oft ein Beispiel der Klasse `i` als Klasse `j` klassifiziert wurde.\n",
    "\n",
    "Auf Basis dieser Matrix werden zwei wichtige Metriken für jede Klasse berechnet:\n",
    "\n",
    "- **Precision**: Anteil der korrekt als Klasse `i` klassifizierten Beispiele an allen als `i` klassifizierten Beispielen  \n",
    "  $\\text{Precision}_i = \\frac{TP}{TP + FP}$\n",
    "\n",
    "- **Recall**: Anteil der korrekt erkannten Beispiele der Klasse `i` an allen tatsächlich zu `i` gehörenden Beispielen  \n",
    "  $\\text{Recall}_i = \\frac{TP}{TP + FN}$\n",
    "\n",
    "Zusätzlich werden die **Macro-Werte** berechnet, also der ungewichtete Durchschnitt über alle Klassen.\n",
    "\n",
    "•\tZunächst werden mit np.argmax sowohl die echten Labels als auch die Vorhersagen in Index-Form (0 bis 9) umgewandelt.\n",
    "\n",
    "•\tAnschliessend wird die Confusion Matrix erstellt, in der der Eintrag conf_matrix[i, j] angibt, wie oft ein Beispiel der wahren Klasse i als Klasse j klassifiziert wurde.\n",
    "\n",
    "•\tFür jede Klasse wird dann Precision berechnet als  $\\frac{TP}{TP + FP}$  und Recall als  $\\frac{TP}{TP + FN}$ .\n",
    "    \n",
    "•\tAbschliessend werden auch die Macro-Werte (Durchschnitt über alle Klassen) ausgegeben."
   ]
  },
  {
   "cell_type": "code",
   "execution_count": 60,
   "metadata": {
    "ExecuteTime": {
     "end_time": "2025-03-22T19:57:09.722250Z",
     "start_time": "2025-03-22T19:57:09.717586Z"
    }
   },
   "outputs": [],
   "source": [
    "def plot_confusion_matrix(conf_matrix, class_names=None, title=\"Confusion Matrix\"):\n",
    "    \"\"\"\n",
    "    Visualisiert eine Confusion Matrix als Heatmap.\n",
    "\n",
    "    Args:\n",
    "        conf_matrix (ndarray): Quadratische Matrix mit shape (n_classes, n_classes)\n",
    "        class_names (list, optional): Liste der Klassennamen (z. B. [0,1,...,9])\n",
    "        title (str): Titel der Grafik\n",
    "    \"\"\"\n",
    "    fig, ax = plt.subplots(figsize=(8, 6))\n",
    "    im = ax.imshow(conf_matrix, cmap=\"Blues\")\n",
    "\n",
    "    # Beschriftungen\n",
    "    if class_names is None:\n",
    "        class_names = list(range(conf_matrix.shape[0]))\n",
    "\n",
    "    ax.set_xticks(range(len(class_names)))\n",
    "    ax.set_yticks(range(len(class_names)))\n",
    "    ax.set_xticklabels(class_names)\n",
    "    ax.set_yticklabels(class_names)\n",
    "\n",
    "    # Achsenbeschriftungen\n",
    "    ax.set_xlabel(\"Vorhergesagte Klasse\")\n",
    "    ax.set_ylabel(\"Tatsächliche Klasse\")\n",
    "    ax.set_title(title)\n",
    "\n",
    "    # Zahlen in Zellen anzeigen\n",
    "    for i in range(conf_matrix.shape[0]):\n",
    "        for j in range(conf_matrix.shape[1]):\n",
    "            ax.text(j, i, conf_matrix[i, j],\n",
    "                    ha=\"center\", va=\"center\",\n",
    "                    color=\"black\" if conf_matrix[i, j] < conf_matrix.max() / 2 else \"white\")\n",
    "\n",
    "    plt.colorbar(im, ax=ax)\n",
    "    plt.tight_layout()\n",
    "    plt.show()"
   ]
  },
  {
   "cell_type": "code",
   "execution_count": 61,
   "metadata": {
    "ExecuteTime": {
     "end_time": "2025-03-22T19:57:09.879503Z",
     "start_time": "2025-03-22T19:57:09.738762Z"
    }
   },
   "outputs": [
    {
     "data": {
      "image/png": "[encoded data removed]",
      "text/plain": [
       "<Figure size 800x600 with 2 Axes>"
      ]
     },
     "metadata": {},
     "output_type": "display_data"
    },
    {
     "name": "stdout",
     "output_type": "stream",
     "text": [
      "\n",
      "Precision pro Klasse:\n",
      "Klasse 0: 0.9385\n",
      "Klasse 1: 0.9686\n",
      "Klasse 2: 0.9339\n",
      "Klasse 3: 0.8811\n",
      "Klasse 4: 0.9236\n",
      "Klasse 5: 0.8830\n",
      "Klasse 6: 0.9154\n",
      "Klasse 7: 0.9419\n",
      "Klasse 8: 0.8655\n",
      "Klasse 9: 0.8882\n",
      "\n",
      "Recall pro Klasse:\n",
      "Klasse 0: 0.9816\n",
      "Klasse 1: 0.9771\n",
      "Klasse 2: 0.8624\n",
      "Klasse 3: 0.9099\n",
      "Klasse 4: 0.9236\n",
      "Klasse 5: 0.8464\n",
      "Klasse 6: 0.9374\n",
      "Klasse 7: 0.9144\n",
      "Klasse 8: 0.8789\n",
      "Klasse 9: 0.9058\n",
      "\n",
      "Macro Precision: 0.9140\n",
      "Macro Recall: 0.9138\n"
     ]
    }
   ],
   "source": [
    "# Konvertiere One-Hot-Labels und Softmax-Ausgaben in Klassenindizes\n",
    "true_labels = np.argmax(y_test_oh, axis=1)\n",
    "pred_labels = np.argmax(test_out_mc, axis=1)\n",
    "num_classes = 10\n",
    "\n",
    "# Initialisiere Confusion Matrix (Zeile = tatsächliche Klasse, Spalte = Vorhersage)\n",
    "conf_matrix = np.zeros((num_classes, num_classes), dtype=int)\n",
    "for t, p in zip(true_labels, pred_labels):\n",
    "    conf_matrix[t, p] += 1\n",
    "    \n",
    "# Plotte die Confusion Matrix\n",
    "plot_confusion_matrix(conf_matrix, class_names=list(range(10)))\n",
    "\n",
    "# Berechne Precision und Recall für jede Klasse\n",
    "precisions = np.zeros(num_classes)\n",
    "recalls = np.zeros(num_classes)\n",
    "\n",
    "for i in range(num_classes):\n",
    "    TP = conf_matrix[i, i]                             # True Positives für Klasse i\n",
    "    FP = np.sum(conf_matrix[:, i]) - TP                # Falsch Positive für Klasse i\n",
    "    FN = np.sum(conf_matrix[i, :]) - TP                # Falsch Negative für Klasse i\n",
    "\n",
    "    # Vermeidung von Division durch Null\n",
    "    precisions[i] = TP / (TP + FP) if (TP + FP) > 0 else 0.0\n",
    "    recalls[i]    = TP / (TP + FN) if (TP + FN) > 0 else 0.0\n",
    "\n",
    "# Ausgabe pro Klasse\n",
    "print(\"\\nPrecision pro Klasse:\")\n",
    "for i in range(num_classes):\n",
    "    print(f\"Klasse {i}: {precisions[i]:.4f}\")\n",
    "\n",
    "print(\"\\nRecall pro Klasse:\")\n",
    "for i in range(num_classes):\n",
    "    print(f\"Klasse {i}: {recalls[i]:.4f}\")\n",
    "\n",
    "# Berechne Makro-Durchschnitt (alle Klassen gleich gewichtet)\n",
    "macro_precision = np.mean(precisions)\n",
    "macro_recall = np.mean(recalls)\n",
    "\n",
    "print(f\"\\nMacro Precision: {macro_precision:.4f}\")\n",
    "print(f\"Macro Recall: {macro_recall:.4f}\")"
   ]
  },
  {
   "cell_type": "markdown",
   "metadata": {},
   "source": [
    "### Diskussion der Ergebnisse\n",
    "\n",
    "Die berechnete Konfusionsmatrix und die zugehörigen Metriken zeigen eine insgesamt sehr ausgewogene Klassifikationsleistung:\n",
    "\n",
    "- Die Precision-Werte liegen für alle Klassen zwischen ca. 88% und 97%, mit dem höchsten Wert für Klasse 1 (0.9687) und dem niedrigsten für Klasse 8 (0.8893).\n",
    "- Die Recall-Werte sind ebenfalls hoch und konsistent, mit einem leichten Abfall bei Klasse 5 (0.8408) und sehr hohen Werten bei Klassen wie 0, 1 oder 6 (über 94%).\n",
    "- Der Macro-Precision beträgt 91.73%, der Macro-Recall 91.69%, was ein Hinweis darauf ist, dass das Modell nicht einzelne Klassen bevorzugt, sondern über alle Ziffern hinweg robust arbeitet.\n",
    "\n",
    "Auffälligkeiten:\n",
    "\n",
    "- Klasse 5 weist einen leicht reduzierten Recall auf, was auf Verwechslungen mit ähnlichen Klassen (z.B. 3 oder 8) hindeuten kann.\n",
    "- Die diagonale Dominanz der Konfusionsmatrix bestätigt die hohe Korrektklassifizierungsrate.\n",
    "\n",
    "Fazit:\n",
    "\n",
    "Die zusätzliche Analyse auf Klassenebene bestätigt die sehr gute Performance des Modells. Besonders bei ausgewogenen Datensätzen wie MNIST sind Precision und Recall hilfreiche Ergänzungen zur Accuracy, um eventuelle Schwächen in der Unterscheidung einzelner Klassen sichtbar zu machen."
   ]
  },
  {
   "cell_type": "markdown",
   "metadata": {},
   "source": [
    "## Exkurs: Klassifikation mit einem Convolutional Neural Network (CNN)\n",
    "\n",
    "Zum Vergleich wurde zusätzlich ein einfaches **Convolutional Neural Network (CNN)** mit drei Faltungsschichten getestet. Dieses Netzwerk wurde mit moderner Deep-Learning-Infrastruktur (z.B. PyTorch oder TensorFlow) implementiert und trainiert.\n",
    "\n",
    "### Architektur:\n",
    "\n",
    "- **Conv Layer 1:** 32 Filter, 3×3 Kernel, ReLU\n",
    "- **Conv Layer 2:** 64 Filter, 3×3 Kernel, ReLU\n",
    "- **Conv Layer 3:** 128 Filter, 3×3 Kernel, ReLU\n",
    "- **Pooling** (z.B. MaxPool) zwischen den Faltungsschichten\n",
    "- **Fully Connected Layer + Softmax-Ausgabe**\n",
    "\n",
    "Das Netzwerk wurde auf dem vollständigen MNIST-Datensatz trainiert und erzielte eine **Testgenauigkeit von 99.5%**.\n",
    "\n",
    "### Einordnung:\n",
    "\n",
    "Diese hohe Genauigkeit zeigt das grosse Potenzial von CNNs bei der Bildklassifikation. Faltungsschichten sind in der Lage, lokale Muster wie Kanten, Rundungen oder Schriftmerkmale automatisch zu extrahieren und bilden damit eine strukturierte Repräsentation der Eingabedaten. Dies macht sie gegenüber flachen Netzen mit rein linearen Layern deutlich leistungsfähiger, insbesondere bei visuellen Aufgaben wie der Ziffernerkennung.\n",
    "\n",
    "### Fazit:\n",
    "\n",
    "Obwohl die in dieser Arbeit implementierten voll verbundenen Netzwerke (MLPs) bereits beachtliche Resultate erzielen, zeigt dieser Vergleich, dass **tiefergehende Modelle mit räumlicher Struktur** wie CNNs bei geeigneter Architektur und Training nochmals deutlich bessere Ergebnisse erreichen können – teils nahe an die menschliche Leistungsgrenze.\n",
    "\n",
    "Ein möglicher Ausblick wäre die Implementierung eines kleinen CNN in NumPy als nächster Schritt in der eigenständigen Netzarchitekturentwicklung.\n"
   ]
  },
  {
   "cell_type": "markdown",
   "metadata": {},
   "source": [
    "## Anhang\n",
    "\n",
    "[PDF zur Nutzung von KI](ki_nutzung.pdf)\n",
    "\n",
    "[Tagebuch](tagebuch.html)"
   ]
  },
  {
   "cell_type": "code",
   "execution_count": 62,
   "metadata": {
    "ExecuteTime": {
     "end_time": "2025-03-22T19:57:09.898809Z",
     "start_time": "2025-03-22T19:57:09.896408Z"
    }
   },
   "outputs": [
    {
     "name": "stdout",
     "output_type": "stream",
     "text": [
      "Total runtime: 2:03min\n"
     ]
    }
   ],
   "source": [
    "t_ende = time()\n",
    "t_total = t_ende - t_anfang\n",
    "print(f\"Total runtime: {int(t_total//60)}:{int(t_total%60):02}min\")"
   ]
  }
 ],
 "metadata": {
  "kernelspec": {
   "display_name": "vta_mc_1-eS1Wwm3t",
   "language": "python",
   "name": "python3"
  },
  "language_info": {
   "codemirror_mode": {
    "name": "ipython",
    "version": 3
   },
   "file_extension": ".py",
   "mimetype": "text/x-python",
   "name": "python",
   "nbconvert_exporter": "python",
   "pygments_lexer": "ipython3",
   "version": "3.11.5"
  }
 },
 "nbformat": 4,
 "nbformat_minor": 2
}
